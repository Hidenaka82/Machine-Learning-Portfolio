{
 "cells": [
  {
   "cell_type": "code",
   "execution_count": null,
   "metadata": {},
   "outputs": [],
   "source": [
    "#---our own KNN model---#\n",
    "def knn(training_points,test_point,k):\n",
    "    distances={}\n",
    "    \n",
    "    #---the number of axes we are dealing with---#\n",
    "    dimension = test_point.shape[1]\n",
    "    \n",
    "    #---calculating euclidean distance between each point\n",
    "    # in the training data and test data\n",
    "    for x in range(len(training_points)):\n",
    "        dist= euclidean_distance(test_point,training_points.iloc[x],dimension)\n",
    "        \n",
    "        #--- record the distance for each training points---# \n",
    "        distances[x]=dist[0]\n",
    "        \n",
    "    #---sort the distances---#\n",
    "    sorted_d=sorted(distances.items(),key=operator.itemgetter(1))\n",
    "    \n",
    "    #---to store the neighbors---#\n",
    "    neighbors=[]\n",
    "    \n",
    "    #---extract the top k neighbors---#\n",
    "    for x in range(k):\n",
    "        neighbors.append(sorted_d[x][0])\n",
    "    \n",
    "    #---for each neighbor found, find its class---#\n",
    "    class_counter={}\n",
    "    for x in range(len(neighbors)):\n",
    "        #---find out the class for that particular point---#\n",
    "        cls=training_points.iloc[neighbors[x]][-1]\n",
    "        \n",
    "        if cls in class_counter:\n",
    "            class_counter[cls] += 1\n",
    "        else:\n",
    "            class_counter[cls]=1\n",
    "            \n",
    "        #---sort the class_counter in descending order---#\n",
    "        sorted_counter=sorted(class_counter.items(), key=operator.itemgetter(1),reverse=True)\n",
    "        \n",
    "    #---return the class with the most count, as well as the neighbors found---#\n",
    "    return(sorted_counter[0][0],neighbors)"
   ]
  }
 ],
 "metadata": {
  "kernelspec": {
   "display_name": "Python 3",
   "language": "python",
   "name": "python3"
  },
  "language_info": {
   "codemirror_mode": {
    "name": "ipython",
    "version": 3
   },
   "file_extension": ".py",
   "mimetype": "text/x-python",
   "name": "python",
   "nbconvert_exporter": "python",
   "pygments_lexer": "ipython3",
   "version": "3.8.3"
  }
 },
 "nbformat": 4,
 "nbformat_minor": 4
}
