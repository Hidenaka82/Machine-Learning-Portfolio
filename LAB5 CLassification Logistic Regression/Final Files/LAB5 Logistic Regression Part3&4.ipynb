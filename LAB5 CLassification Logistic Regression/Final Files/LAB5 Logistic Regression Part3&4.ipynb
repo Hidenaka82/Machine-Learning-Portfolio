{
 "cells": [
  {
   "cell_type": "markdown",
   "metadata": {},
   "source": [
    "# LAB5 KNN Classification on Diabetes Part3"
   ]
  },
  {
   "cell_type": "markdown",
   "metadata": {},
   "source": [
    " In this part I will use the diabetes dataset and create a KNN classifier. Tune the parameter K to find the optimal K for the classification task. Then perform k-fold cross validation, find the best k that minimizes the misclassification rate. "
   ]
  },
  {
   "cell_type": "code",
   "execution_count": 1,
   "metadata": {},
   "outputs": [],
   "source": [
    "import pandas as pd\n",
    "import numpy as np\n",
    "import matplotlib as plt\n",
    "import matplotlib.pyplot as plt \n",
    "import matplotlib.patches as mpatches\n",
    "from sklearn.datasets import load_breast_cancer\n",
    "from sklearn import linear_model\n",
    "from mpl_toolkits.mplot3d import Axes3D\n",
    "from sklearn import metrics\n",
    "from sklearn.model_selection import train_test_split\n",
    "from sklearn.metrics import roc_curve, auc\n",
    "import seaborn as sns\n",
    "import matplotlib.patches as mpatches\n",
    "import operator\n",
    "from matplotlib.lines import Line2D\n",
    "from sklearn.model_selection import cross_val_score"
   ]
  },
  {
   "cell_type": "code",
   "execution_count": 2,
   "metadata": {},
   "outputs": [],
   "source": [
    "df = pd.read_csv('diabetes.csv')"
   ]
  },
  {
   "cell_type": "markdown",
   "metadata": {},
   "source": [
    "### Data Manuplation"
   ]
  },
  {
   "cell_type": "code",
   "execution_count": 3,
   "metadata": {},
   "outputs": [],
   "source": [
    "#diabetes.columns =['x1', 'x2', 'x3','x4','x5','x6','x7','x8','k'] \n",
    "df.columns =['Pregnancies', 'Glucose','BloodPressure','SkinThickness','Insulin','BMI','DiabetesPedigreeFunction','Age','c'] "
   ]
  },
  {
   "cell_type": "code",
   "execution_count": 4,
   "metadata": {},
   "outputs": [
    {
     "data": {
      "text/html": [
       "<div>\n",
       "<style scoped>\n",
       "    .dataframe tbody tr th:only-of-type {\n",
       "        vertical-align: middle;\n",
       "    }\n",
       "\n",
       "    .dataframe tbody tr th {\n",
       "        vertical-align: top;\n",
       "    }\n",
       "\n",
       "    .dataframe thead th {\n",
       "        text-align: right;\n",
       "    }\n",
       "</style>\n",
       "<table border=\"1\" class=\"dataframe\">\n",
       "  <thead>\n",
       "    <tr style=\"text-align: right;\">\n",
       "      <th></th>\n",
       "      <th>Pregnancies</th>\n",
       "      <th>Glucose</th>\n",
       "      <th>BloodPressure</th>\n",
       "      <th>SkinThickness</th>\n",
       "      <th>Insulin</th>\n",
       "      <th>BMI</th>\n",
       "      <th>DiabetesPedigreeFunction</th>\n",
       "      <th>Age</th>\n",
       "      <th>c</th>\n",
       "    </tr>\n",
       "  </thead>\n",
       "  <tbody>\n",
       "    <tr>\n",
       "      <th>0</th>\n",
       "      <td>1</td>\n",
       "      <td>85</td>\n",
       "      <td>66</td>\n",
       "      <td>29</td>\n",
       "      <td>0</td>\n",
       "      <td>26.6</td>\n",
       "      <td>0.351</td>\n",
       "      <td>31</td>\n",
       "      <td>A</td>\n",
       "    </tr>\n",
       "    <tr>\n",
       "      <th>1</th>\n",
       "      <td>8</td>\n",
       "      <td>183</td>\n",
       "      <td>64</td>\n",
       "      <td>0</td>\n",
       "      <td>0</td>\n",
       "      <td>23.3</td>\n",
       "      <td>0.672</td>\n",
       "      <td>32</td>\n",
       "      <td>B</td>\n",
       "    </tr>\n",
       "    <tr>\n",
       "      <th>2</th>\n",
       "      <td>1</td>\n",
       "      <td>89</td>\n",
       "      <td>66</td>\n",
       "      <td>23</td>\n",
       "      <td>94</td>\n",
       "      <td>28.1</td>\n",
       "      <td>0.167</td>\n",
       "      <td>21</td>\n",
       "      <td>A</td>\n",
       "    </tr>\n",
       "    <tr>\n",
       "      <th>3</th>\n",
       "      <td>0</td>\n",
       "      <td>137</td>\n",
       "      <td>40</td>\n",
       "      <td>35</td>\n",
       "      <td>168</td>\n",
       "      <td>43.1</td>\n",
       "      <td>2.288</td>\n",
       "      <td>33</td>\n",
       "      <td>B</td>\n",
       "    </tr>\n",
       "    <tr>\n",
       "      <th>4</th>\n",
       "      <td>5</td>\n",
       "      <td>116</td>\n",
       "      <td>74</td>\n",
       "      <td>0</td>\n",
       "      <td>0</td>\n",
       "      <td>25.6</td>\n",
       "      <td>0.201</td>\n",
       "      <td>30</td>\n",
       "      <td>A</td>\n",
       "    </tr>\n",
       "    <tr>\n",
       "      <th>...</th>\n",
       "      <td>...</td>\n",
       "      <td>...</td>\n",
       "      <td>...</td>\n",
       "      <td>...</td>\n",
       "      <td>...</td>\n",
       "      <td>...</td>\n",
       "      <td>...</td>\n",
       "      <td>...</td>\n",
       "      <td>...</td>\n",
       "    </tr>\n",
       "    <tr>\n",
       "      <th>762</th>\n",
       "      <td>10</td>\n",
       "      <td>101</td>\n",
       "      <td>76</td>\n",
       "      <td>48</td>\n",
       "      <td>180</td>\n",
       "      <td>32.9</td>\n",
       "      <td>0.171</td>\n",
       "      <td>63</td>\n",
       "      <td>A</td>\n",
       "    </tr>\n",
       "    <tr>\n",
       "      <th>763</th>\n",
       "      <td>2</td>\n",
       "      <td>122</td>\n",
       "      <td>70</td>\n",
       "      <td>27</td>\n",
       "      <td>0</td>\n",
       "      <td>36.8</td>\n",
       "      <td>0.340</td>\n",
       "      <td>27</td>\n",
       "      <td>A</td>\n",
       "    </tr>\n",
       "    <tr>\n",
       "      <th>764</th>\n",
       "      <td>5</td>\n",
       "      <td>121</td>\n",
       "      <td>72</td>\n",
       "      <td>23</td>\n",
       "      <td>112</td>\n",
       "      <td>26.2</td>\n",
       "      <td>0.245</td>\n",
       "      <td>30</td>\n",
       "      <td>A</td>\n",
       "    </tr>\n",
       "    <tr>\n",
       "      <th>765</th>\n",
       "      <td>1</td>\n",
       "      <td>126</td>\n",
       "      <td>60</td>\n",
       "      <td>0</td>\n",
       "      <td>0</td>\n",
       "      <td>30.1</td>\n",
       "      <td>0.349</td>\n",
       "      <td>47</td>\n",
       "      <td>B</td>\n",
       "    </tr>\n",
       "    <tr>\n",
       "      <th>766</th>\n",
       "      <td>1</td>\n",
       "      <td>93</td>\n",
       "      <td>70</td>\n",
       "      <td>31</td>\n",
       "      <td>0</td>\n",
       "      <td>30.4</td>\n",
       "      <td>0.315</td>\n",
       "      <td>23</td>\n",
       "      <td>A</td>\n",
       "    </tr>\n",
       "  </tbody>\n",
       "</table>\n",
       "<p>767 rows × 9 columns</p>\n",
       "</div>"
      ],
      "text/plain": [
       "     Pregnancies  Glucose  BloodPressure  SkinThickness  Insulin   BMI  \\\n",
       "0              1       85             66             29        0  26.6   \n",
       "1              8      183             64              0        0  23.3   \n",
       "2              1       89             66             23       94  28.1   \n",
       "3              0      137             40             35      168  43.1   \n",
       "4              5      116             74              0        0  25.6   \n",
       "..           ...      ...            ...            ...      ...   ...   \n",
       "762           10      101             76             48      180  32.9   \n",
       "763            2      122             70             27        0  36.8   \n",
       "764            5      121             72             23      112  26.2   \n",
       "765            1      126             60              0        0  30.1   \n",
       "766            1       93             70             31        0  30.4   \n",
       "\n",
       "     DiabetesPedigreeFunction  Age  c  \n",
       "0                       0.351   31  A  \n",
       "1                       0.672   32  B  \n",
       "2                       0.167   21  A  \n",
       "3                       2.288   33  B  \n",
       "4                       0.201   30  A  \n",
       "..                        ...  ... ..  \n",
       "762                     0.171   63  A  \n",
       "763                     0.340   27  A  \n",
       "764                     0.245   30  A  \n",
       "765                     0.349   47  B  \n",
       "766                     0.315   23  A  \n",
       "\n",
       "[767 rows x 9 columns]"
      ]
     },
     "execution_count": 4,
     "metadata": {},
     "output_type": "execute_result"
    }
   ],
   "source": [
    "df['c'].replace({0: 'A', 1:'B'}, inplace=True)\n",
    "df"
   ]
  },
  {
   "cell_type": "markdown",
   "metadata": {},
   "source": [
    "Pregnancies: x1  \n",
    "Glucose: x2  \n",
    "BloodPressure: x3  \n",
    "SkinThickness: x4  \n",
    "Insulin: x5  \n",
    "BMI: x6  \n",
    "DiabetesPedigreeFunction: x7  \n",
    "Age: x8  \n",
    "Outcome: k (class) "
   ]
  },
  {
   "cell_type": "code",
   "execution_count": null,
   "metadata": {},
   "outputs": [],
   "source": []
  },
  {
   "cell_type": "code",
   "execution_count": 5,
   "metadata": {},
   "outputs": [
    {
     "data": {
      "text/plain": [
       "0      A\n",
       "1      B\n",
       "2      A\n",
       "3      B\n",
       "4      A\n",
       "      ..\n",
       "762    A\n",
       "763    A\n",
       "764    A\n",
       "765    B\n",
       "766    A\n",
       "Name: c, Length: 767, dtype: object"
      ]
     },
     "execution_count": 5,
     "metadata": {},
     "output_type": "execute_result"
    }
   ],
   "source": [
    "df.c"
   ]
  },
  {
   "cell_type": "code",
   "execution_count": 6,
   "metadata": {},
   "outputs": [
    {
     "data": {
      "text/plain": [
       "array([[1, 85, 66, ..., 0.35100000000000003, 31, 'A'],\n",
       "       [8, 183, 64, ..., 0.672, 32, 'B'],\n",
       "       [1, 89, 66, ..., 0.16699999999999998, 21, 'A'],\n",
       "       ...,\n",
       "       [5, 121, 72, ..., 0.245, 30, 'A'],\n",
       "       [1, 126, 60, ..., 0.349, 47, 'B'],\n",
       "       [1, 93, 70, ..., 0.315, 23, 'A']], dtype=object)"
      ]
     },
     "execution_count": 6,
     "metadata": {},
     "output_type": "execute_result"
    }
   ],
   "source": [
    "df_array = df.to_numpy()\n",
    "df_array"
   ]
  },
  {
   "cell_type": "code",
   "execution_count": 7,
   "metadata": {},
   "outputs": [
    {
     "data": {
      "text/plain": [
       "array([[1, 85, 66, ..., 26.6, 0.35100000000000003, 31],\n",
       "       [8, 183, 64, ..., 23.3, 0.672, 32],\n",
       "       [1, 89, 66, ..., 28.1, 0.16699999999999998, 21],\n",
       "       ...,\n",
       "       [5, 121, 72, ..., 26.2, 0.245, 30],\n",
       "       [1, 126, 60, ..., 30.1, 0.349, 47],\n",
       "       [1, 93, 70, ..., 30.4, 0.315, 23]], dtype=object)"
      ]
     },
     "execution_count": 7,
     "metadata": {},
     "output_type": "execute_result"
    }
   ],
   "source": [
    "df_array[:,:8]  #all features except c, select all columns"
   ]
  },
  {
   "cell_type": "code",
   "execution_count": 8,
   "metadata": {},
   "outputs": [
    {
     "data": {
      "text/plain": [
       "array([[1, 29],\n",
       "       [8, 0],\n",
       "       [1, 23],\n",
       "       ...,\n",
       "       [5, 23],\n",
       "       [1, 0],\n",
       "       [1, 31]], dtype=object)"
      ]
     },
     "execution_count": 8,
     "metadata": {},
     "output_type": "execute_result"
    }
   ],
   "source": [
    "df_array[:,[0,3]] #selecting specific features, ex: first feature and forth feature"
   ]
  },
  {
   "cell_type": "code",
   "execution_count": null,
   "metadata": {},
   "outputs": [],
   "source": []
  },
  {
   "cell_type": "code",
   "execution_count": 9,
   "metadata": {},
   "outputs": [
    {
     "data": {
      "image/png": "[encoded data removed]",
      "text/plain": [
       "<Figure size 402.875x360 with 1 Axes>"
      ]
     },
     "metadata": {
      "needs_background": "light"
     },
     "output_type": "display_data"
    }
   ],
   "source": [
    "sns.lmplot('Age','BMI',data=df,hue='c',palette='Set1',fit_reg=False,scatter_kws={\"s\":30})\n",
    "plt.show()"
   ]
  },
  {
   "cell_type": "code",
   "execution_count": 10,
   "metadata": {},
   "outputs": [],
   "source": [
    "#--- To calculate the distance between two points---#\n",
    "def euclidean_distance(pt1,pt2,dimension):\n",
    "    distance=0\n",
    "    for x in range(dimension):\n",
    "        distance += np.square(pt1[x]-pt2[x])\n",
    "    return np.sqrt(distance)"
   ]
  },
  {
   "cell_type": "code",
   "execution_count": 11,
   "metadata": {},
   "outputs": [],
   "source": [
    "#---our own KNN model---#\n",
    "def knn(training_points,test_point,k):\n",
    "    distances={}\n",
    "    \n",
    "    #---the number of axes we are dealing with---#\n",
    "    dimension = test_point.shape[1]\n",
    "\n",
    "    #---calculating euclidean distance between each point\n",
    "    # in the training data and test data\n",
    "    for x in range(len(training_points)):\n",
    "        dist= euclidean_distance(test_point,training_points.iloc[x],dimension)\n",
    "        \n",
    "        #--- record the distance for each training points---# \n",
    "        distances[x]=dist[0]\n",
    "        \n",
    "    #---sort the distances---#\n",
    "    sorted_d=sorted(distances.items(),key=operator.itemgetter(1)) \n",
    "    \n",
    "    #---to store the neighbors---#\n",
    "    neighbors=[]\n",
    "    \n",
    "    #---extract the top k neighbors---#\n",
    "    for x in range(k):\n",
    "        neighbors.append(sorted_d[x][0])\n",
    "    \n",
    "    #---for each neighbor found, find its class---#\n",
    "    class_counter={}\n",
    "    for x in range(len(neighbors)):\n",
    "        #---find out the class for that particular point---#\n",
    "        cls=training_points.iloc[neighbors[x]][-1]                                      \n",
    "        \n",
    "        if cls in class_counter:\n",
    "            class_counter[cls] += 1\n",
    "        else:\n",
    "            class_counter[cls]=1\n",
    "            \n",
    "        #---sort the class_counter in descending order---#\n",
    "        sorted_counter=sorted(class_counter.items(), key=operator.itemgetter(1),reverse=True)\n",
    "        \n",
    "    #---return the class with the most count, as well as the neighbors found---#\n",
    "    return(sorted_counter[0][0],neighbors)"
   ]
  },
  {
   "cell_type": "code",
   "execution_count": 12,
   "metadata": {},
   "outputs": [
    {
     "name": "stdout",
     "output_type": "stream",
     "text": [
      "Predicted Class:A\n"
     ]
    }
   ],
   "source": [
    "test_set=[[30,40]]                        #test_set[Age, BMI]\n",
    "test=pd.DataFrame(test_set)\n",
    "\n",
    "#Choose features specifically in datafram for passing to knn func.\n",
    "cls,neighbors=knn(df[[\"Age\", \"BMI\", \"c\"]],test,3)                             #knn(training_points, test_points, k)\n",
    "print(\"Predicted Class:\" + cls)\n",
    "#print(len(neighbors))"
   ]
  },
  {
   "cell_type": "code",
   "execution_count": 13,
   "metadata": {},
   "outputs": [],
   "source": [
    "#---Test Point---#\n",
    "#test_set=[[32,23]]                        #test_set[Age, BMI]\n",
    "#test=pd.DataFrame(test_set)\n",
    "#cls,neighbors=knn(df,test,3)        # This is an issue\n",
    "#print(\"Predicted Class:\" + cls)"
   ]
  },
  {
   "cell_type": "markdown",
   "metadata": {},
   "source": [
    "Issue was my passing points in function was bit off."
   ]
  },
  {
   "cell_type": "markdown",
   "metadata": {},
   "source": [
    "### Visualizing Different Values of K\n",
    "It is useful to be able to visualize the ffect of applying various values of k. The following code snippet draws a series of concentric circles around the test point based on the values of k, which range from 7 to 1, with intervals of -2:"
   ]
  },
  {
   "cell_type": "code",
   "execution_count": null,
   "metadata": {},
   "outputs": [],
   "source": []
  },
  {
   "cell_type": "code",
   "execution_count": 14,
   "metadata": {},
   "outputs": [
    {
     "data": {
      "text/plain": [
       "array([[1.00e+00, 8.50e+01, 6.60e+01, ..., 2.66e+01, 3.51e-01, 3.10e+01],\n",
       "       [8.00e+00, 1.83e+02, 6.40e+01, ..., 2.33e+01, 6.72e-01, 3.20e+01],\n",
       "       [1.00e+00, 8.90e+01, 6.60e+01, ..., 2.81e+01, 1.67e-01, 2.10e+01],\n",
       "       ...,\n",
       "       [5.00e+00, 1.21e+02, 7.20e+01, ..., 2.62e+01, 2.45e-01, 3.00e+01],\n",
       "       [1.00e+00, 1.26e+02, 6.00e+01, ..., 3.01e+01, 3.49e-01, 4.70e+01],\n",
       "       [1.00e+00, 9.30e+01, 7.00e+01, ..., 3.04e+01, 3.15e-01, 2.30e+01]])"
      ]
     },
     "execution_count": 14,
     "metadata": {},
     "output_type": "execute_result"
    }
   ],
   "source": [
    "df = pd.read_csv('diabetes.csv')\n",
    "df.columns =['Pregnancies', 'Glucose','BloodPressure','SkinThickness','Insulin','BMI','DiabetesPedigreeFunction','Age','c'] \n",
    "df_array = df.to_numpy()\n",
    "df_array[:,:8]"
   ]
  },
  {
   "cell_type": "code",
   "execution_count": 15,
   "metadata": {},
   "outputs": [],
   "source": [
    "#display(X)"
   ]
  },
  {
   "cell_type": "code",
   "execution_count": 16,
   "metadata": {},
   "outputs": [],
   "source": [
    "#display(y)"
   ]
  },
  {
   "cell_type": "code",
   "execution_count": 17,
   "metadata": {},
   "outputs": [
    {
     "data": {
      "image/png": "[encoded data removed]",
      "text/plain": [
       "<Figure size 432x288 with 1 Axes>"
      ]
     },
     "metadata": {
      "needs_background": "light"
     },
     "output_type": "display_data"
    }
   ],
   "source": [
    "%matplotlib inline\n",
    "\n",
    "datasets = df_array\n",
    "X=df_array[:,[5,7]]                  ####### take the \"Age\" and \"BMI\" features\n",
    "y=df.c # k = target (classes)\n",
    "\n",
    "colors=['red','green',]\n",
    "\n",
    "for color, i, k in zip(colors,[0,1],df.c):\n",
    "    plt.scatter(X[y==i,0],X[y==i,1],color=color,label=i+1)\n",
    "\n",
    "plt.xlabel('Age')\n",
    "plt.ylabel('BMI')\n",
    "\n",
    "#custom = [Line2D([], [], marker='.', color='r', linestyle='None'), Line2D([], [], marker='.', color='g', linestyle='None')]\n",
    "\n",
    "#plt.legend(custom, ['Yes', 'No'], loc='lower right')\n",
    "plt.legend([\"1:Yes Diabetes\",\"2:No Diabetes\"], loc='best', shadow=False, scatterpoints=1)\n",
    "\n",
    "plt.title(\"Diabetes Classifier\")\n",
    "plt.show()\n"
   ]
  },
  {
   "cell_type": "code",
   "execution_count": 18,
   "metadata": {},
   "outputs": [
    {
     "name": "stdout",
     "output_type": "stream",
     "text": [
      "(array([0, 1]), array([515, 252]))\n"
     ]
    },
    {
     "data": {
      "image/png": "[encoded data removed]",
      "text/plain": [
       "<Figure size 432x288 with 1 Axes>"
      ]
     },
     "metadata": {
      "needs_background": "light"
     },
     "output_type": "display_data"
    }
   ],
   "source": [
    "from sklearn.neighbors import KNeighborsClassifier\n",
    "\n",
    "k=5\n",
    "#---instantiate learning model---#\n",
    "knn=KNeighborsClassifier(n_neighbors=k)\n",
    "#---fitting the model---#\n",
    "knn.fit(X,y)\n",
    "\n",
    "#---min and max for the first feature---#\n",
    "x_min, x_max=X[:,0].min()-1,X[:,0].max() + 1\n",
    "\n",
    "#---min and max for the second feature---#\n",
    "y_min, y_max=X[:,1].min()-1, X[:,1].max() + 1\n",
    "\n",
    "#---step size in mesh---#\n",
    "h=(x_max/x_min)/100\n",
    "\n",
    "#---make predictions for each of the points in xx,yy---#\n",
    "xx,yy=np.meshgrid(np.arange(x_min,x_max,abs(h)),\n",
    "                  np.arange(y_min,y_max,abs(h)))\n",
    "\n",
    "Z=knn.predict(np.c_[xx.ravel(),yy.ravel()])\n",
    "\n",
    "#---draw the result using a color plot---#\n",
    "Z=Z.reshape(xx.shape)\n",
    "plt.contourf(xx,yy,Z,cmap=plt.cm.Accent,alpha=0.5)\n",
    "\n",
    "#---plot the training points---#\n",
    "colors=['red','blue']\n",
    "for color, i, k in zip(colors,[0,1],df.c):\n",
    "    plt.scatter(X[y==i,0],X[y==i,1],color=color,label=i+1)\n",
    "\n",
    "plt.xlabel('Age')\n",
    "plt.ylabel('BMI')\n",
    "\n",
    "plt.title(f'KNN (k=5)')\n",
    "\n",
    "plt.legend([\"Red: Benign Diabetes\",\"Blue: Malignant Diabetes\"], loc='best', shadow=False, scatterpoints=1)\n",
    "\n",
    "predictions=knn.predict(X)\n",
    "\n",
    "#---classifications based on predictions---#\n",
    "print(np.unique(predictions,return_counts=True))\n"
   ]
  },
  {
   "cell_type": "code",
   "execution_count": 19,
   "metadata": {},
   "outputs": [
    {
     "name": "stdout",
     "output_type": "stream",
     "text": [
      "(array([0, 1]), array([525, 242]))\n"
     ]
    },
    {
     "data": {
      "image/png": "[encoded data removed]",
      "text/plain": [
       "<Figure size 432x288 with 1 Axes>"
      ]
     },
     "metadata": {
      "needs_background": "light"
     },
     "output_type": "display_data"
    }
   ],
   "source": [
    "from sklearn.neighbors import KNeighborsClassifier\n",
    "\n",
    "k=17\n",
    "#---instantiate learning model---#\n",
    "knn=KNeighborsClassifier(n_neighbors=k)\n",
    "#---fitting the model---#\n",
    "knn.fit(X,y)\n",
    "\n",
    "#---min and max for the first feature---#\n",
    "x_min, x_max=X[:,0].min()-1,X[:,0].max() + 1\n",
    "\n",
    "#---min and max for the second feature---#\n",
    "y_min, y_max=X[:,1].min()-1, X[:,1].max() + 1\n",
    "\n",
    "#---step size in mesh---#\n",
    "h=(x_max/x_min)/100\n",
    "\n",
    "#---make predictions for each of the points in xx,yy---#\n",
    "xx,yy=np.meshgrid(np.arange(x_min,x_max,abs(h)),\n",
    "                  np.arange(y_min,y_max,abs(h)))\n",
    "\n",
    "Z=knn.predict(np.c_[xx.ravel(),yy.ravel()])\n",
    "\n",
    "#---draw the result using a color plot---#\n",
    "Z=Z.reshape(xx.shape)\n",
    "plt.contourf(xx,yy,Z,cmap=plt.cm.Accent,alpha=0.5)\n",
    "\n",
    "#---plot the training points---#\n",
    "colors=['red','blue']\n",
    "for color, i, k in zip(colors,[0,1],df.c):\n",
    "    plt.scatter(X[y==i,0],X[y==i,1],color=color,label=i+1)\n",
    "\n",
    "plt.xlabel('Age')\n",
    "plt.ylabel('BMI')\n",
    "\n",
    "plt.title(f'KNN (k=17)')\n",
    "\n",
    "plt.legend([\"Red: Benign Diabetes\",\"Blue: Malignant Diabetes\"], loc='best', shadow=False, scatterpoints=1)\n",
    "\n",
    "predictions=knn.predict(X)\n",
    "\n",
    "#---classifications based on predictions---#\n",
    "print(np.unique(predictions,return_counts=True))\n"
   ]
  },
  {
   "cell_type": "markdown",
   "metadata": {},
   "source": [
    "note that as k increases, the boundary becomes smoother. But it also means that the more points will be classified incorrectly. When k increases to a large value, underfitting occurs. \n",
    "\n",
    "### Cross-Validation\n",
    "We have witnessed from previous chapters, that we split our dataset into two individual sets--one for training ando ne for testing. However, the data in your dataset may not be distributed evenly, and as a result your test set may be too simple or too hard to predict, thereby making it very difficult to know if your model works well.\n",
    "\n",
    "Instead of using part of the data for training and part for testing, you can split the data into k-folds and train the model k times, rotating the training and testing sets, By doing so, each data point is now being used for training and testing.\n",
    "\n",
    "#### Parameter-Tuning K\n",
    "Now that you understand cross-validation, lets use it on our Iris dataset. We will train the model using all of the three features, and as the same time we shall use cross-validation on the dataset using 10 folds. We will do this for each value of k:"
   ]
  },
  {
   "cell_type": "code",
   "execution_count": 20,
   "metadata": {},
   "outputs": [
    {
     "name": "stdout",
     "output_type": "stream",
     "text": [
      "K value:  1 Average Accuracy:  0.6806390977443609\n",
      "K value:  2 Average Accuracy:  0.7105775803144223\n",
      "K value:  4 Average Accuracy:  0.7197368421052632\n",
      "K value:  5 Average Accuracy:  0.7249999999999999\n",
      "K value:  7 Average Accuracy:  0.7432843472317157\n",
      "K value:  8 Average Accuracy:  0.7380553656869446\n",
      "K value:  10 Average Accuracy:  0.7484278879015721\n",
      "K value:  11 Average Accuracy:  0.7380211893369788\n",
      "K value:  13 Average Accuracy:  0.7471291866028709\n",
      "K value:  14 Average Accuracy:  0.7549555707450445\n",
      "K value:  16 Average Accuracy:  0.7510765550239235\n",
      "K value:  17 Average Accuracy:  0.7550922761449078\n",
      "K value:  19 Average Accuracy:  0.7485645933014354\n",
      "K value:  20 Average Accuracy:  0.7524606971975393\n",
      "K value:  22 Average Accuracy:  0.7525119617224881\n",
      "K value:  23 Average Accuracy:  0.7499145591250855\n",
      "K value:  25 Average Accuracy:  0.7472488038277513\n",
      "K value:  26 Average Accuracy:  0.7342105263157894\n",
      "K value:  28 Average Accuracy:  0.7289644565960355\n",
      "K value:  29 Average Accuracy:  0.7328947368421053\n",
      "K value:  31 Average Accuracy:  0.7342105263157894\n",
      "K value:  32 Average Accuracy:  0.7342105263157894\n",
      "K value:  34 Average Accuracy:  0.7394053315105947\n",
      "K value:  35 Average Accuracy:  0.7420027341079973\n",
      "K value:  37 Average Accuracy:  0.7367908407382092\n",
      "K value:  38 Average Accuracy:  0.7433185235816815\n",
      "K value:  40 Average Accuracy:  0.7394395078605606\n",
      "K value:  41 Average Accuracy:  0.736825017088175\n",
      "K value:  43 Average Accuracy:  0.7316643882433356\n",
      "K value:  44 Average Accuracy:  0.7303827751196172\n",
      "K value:  46 Average Accuracy:  0.7251537935748462\n",
      "K value:  47 Average Accuracy:  0.7290840738209159\n",
      "K value:  49 Average Accuracy:  0.7316985645933014\n",
      "K value:  50 Average Accuracy:  0.723838004101162\n",
      "K value:  52 Average Accuracy:  0.7316473000683528\n",
      "K value:  53 Average Accuracy:  0.7329630895420369\n",
      "K value:  55 Average Accuracy:  0.7303485987696514\n",
      "K value:  56 Average Accuracy:  0.7303315105946686\n",
      "K value:  58 Average Accuracy:  0.7290328092959673\n",
      "K value:  59 Average Accuracy:  0.7316643882433357\n",
      "K value:  61 Average Accuracy:  0.7368079289131921\n",
      "K value:  62 Average Accuracy:  0.7355263157894737\n",
      "K value:  64 Average Accuracy:  0.7328947368421053\n",
      "K value:  65 Average Accuracy:  0.736825017088175\n",
      "K value:  67 Average Accuracy:  0.7394395078605606\n",
      "K value:  68 Average Accuracy:  0.7394395078605605\n",
      "K value:  70 Average Accuracy:  0.7367908407382091\n",
      "K value:  71 Average Accuracy:  0.7394224196855776\n",
      "K value:  73 Average Accuracy:  0.7368079289131921\n",
      "K value:  74 Average Accuracy:  0.7393711551606289\n",
      "K value:  76 Average Accuracy:  0.7380895420369106\n",
      "K value:  77 Average Accuracy:  0.7368421052631579\n",
      "K value:  79 Average Accuracy:  0.7355092276144909\n",
      "K value:  80 Average Accuracy:  0.7289986329460014\n",
      "K value:  82 Average Accuracy:  0.7198564593301435\n",
      "K value:  83 Average Accuracy:  0.7289473684210526\n",
      "K value:  85 Average Accuracy:  0.7328605604921394\n",
      "K value:  86 Average Accuracy:  0.7315618591934382\n",
      "K value:  88 Average Accuracy:  0.730228981544771\n",
      "K value:  89 Average Accuracy:  0.7328434723171566\n",
      "K value:  91 Average Accuracy:  0.7237183868762816\n",
      "K value:  92 Average Accuracy:  0.7224196855775803\n",
      "K value:  94 Average Accuracy:  0.726332877648667\n",
      "K value:  95 Average Accuracy:  0.7224196855775803\n",
      "K value:  97 Average Accuracy:  0.7197881066302119\n",
      "K value:  98 Average Accuracy:  0.721103896103896\n",
      "K value:  100 Average Accuracy:  0.7198051948051948\n",
      "K value:  101 Average Accuracy:  0.7249999999999999\n",
      "K value:  103 Average Accuracy:  0.7249999999999999\n",
      "K value:  104 Average Accuracy:  0.7223855092276145\n",
      "K value:  106 Average Accuracy:  0.7132775119617224\n",
      "K value:  107 Average Accuracy:  0.7197881066302119\n",
      "K value:  109 Average Accuracy:  0.7119617224880382\n",
      "K value:  110 Average Accuracy:  0.7106630211893369\n",
      "K value:  112 Average Accuracy:  0.7145933014354068\n",
      "K value:  113 Average Accuracy:  0.7210868079289132\n",
      "K value:  115 Average Accuracy:  0.715892002734108\n",
      "K value:  116 Average Accuracy:  0.7158578263841421\n",
      "K value:  118 Average Accuracy:  0.7132775119617224\n",
      "K value:  119 Average Accuracy:  0.7184894053315106\n",
      "K value:  121 Average Accuracy:  0.7223684210526315\n",
      "K value:  122 Average Accuracy:  0.7223513328776486\n",
      "K value:  124 Average Accuracy:  0.7249658236500343\n",
      "K value:  125 Average Accuracy:  0.7249487354750512\n",
      "K value:  127 Average Accuracy:  0.7223684210526315\n",
      "K value:  128 Average Accuracy:  0.719771018455229\n",
      "K value:  130 Average Accuracy:  0.7158578263841421\n",
      "K value:  131 Average Accuracy:  0.7184723171565276\n",
      "K value:  133 Average Accuracy:  0.715892002734108\n",
      "K value:  134 Average Accuracy:  0.7119788106630212\n",
      "K value:  136 Average Accuracy:  0.7132775119617226\n",
      "K value:  137 Average Accuracy:  0.7159090909090909\n",
      "K value:  139 Average Accuracy:  0.7184894053315105\n",
      "K value:  140 Average Accuracy:  0.7145762132604239\n",
      "K value:  142 Average Accuracy:  0.7119788106630212\n",
      "K value:  143 Average Accuracy:  0.7184552289815447\n",
      "K value:  145 Average Accuracy:  0.7145420369104578\n",
      "K value:  146 Average Accuracy:  0.7066985645933015\n",
      "K value:  148 Average Accuracy:  0.7041011619958988\n",
      "K value:  149 Average Accuracy:  0.7053998632946001\n",
      "K value:  151 Average Accuracy:  0.7066814764183186\n",
      "K value:  152 Average Accuracy:  0.7053827751196172\n",
      "K value:  154 Average Accuracy:  0.694958988380041\n",
      "K value:  155 Average Accuracy:  0.7028024606971975\n",
      "K value:  157 Average Accuracy:  0.7053998632946001\n",
      "K value:  158 Average Accuracy:  0.7027511961722488\n",
      "K value:  160 Average Accuracy:  0.7001708817498291\n",
      "K value:  161 Average Accuracy:  0.7066814764183185\n",
      "K value:  163 Average Accuracy:  0.7001367053998633\n",
      "K value:  164 Average Accuracy:  0.6923103212576897\n",
      "K value:  166 Average Accuracy:  0.6910116199589884\n",
      "K value:  167 Average Accuracy:  0.6975222146274779\n",
      "K value:  169 Average Accuracy:  0.6896958304853043\n",
      "K value:  170 Average Accuracy:  0.6831852358168147\n",
      "K value:  172 Average Accuracy:  0.6779733424470267\n",
      "K value:  173 Average Accuracy:  0.6805707450444294\n",
      "K value:  175 Average Accuracy:  0.680604921394395\n",
      "K value:  176 Average Accuracy:  0.6688824333561175\n",
      "K value:  178 Average Accuracy:  0.6740943267259057\n",
      "K value:  179 Average Accuracy:  0.6818865345181135\n",
      "K value:  181 Average Accuracy:  0.675393028024607\n",
      "K value:  182 Average Accuracy:  0.6688824333561175\n",
      "K value:  184 Average Accuracy:  0.6623718386876283\n",
      "K value:  185 Average Accuracy:  0.6649692412850308\n",
      "K value:  187 Average Accuracy:  0.6623376623376622\n",
      "K value:  188 Average Accuracy:  0.6584244702665755\n",
      "K value:  190 Average Accuracy:  0.6558270676691731\n",
      "K value:  191 Average Accuracy:  0.6544941900205059\n",
      "K value:  193 Average Accuracy:  0.6571257689678743\n",
      "K value:  194 Average Accuracy:  0.6519309637730691\n",
      "K value:  196 Average Accuracy:  0.6532296650717704\n",
      "K value:  197 Average Accuracy:  0.6545283663704717\n",
      "K value:  199 Average Accuracy:  0.6519309637730691\n",
      "K value:  200 Average Accuracy:  0.6532296650717704\n",
      "K value:  202 Average Accuracy:  0.6519309637730691\n",
      "K value:  203 Average Accuracy:  0.6519309637730691\n",
      "K value:  205 Average Accuracy:  0.6506151742993849\n",
      "K value:  206 Average Accuracy:  0.6519138755980862\n",
      "K value:  208 Average Accuracy:  0.6532125768967875\n",
      "K value:  209 Average Accuracy:  0.6532125768967875\n",
      "K value:  211 Average Accuracy:  0.6532125768967875\n",
      "K value:  212 Average Accuracy:  0.6532125768967875\n",
      "K value:  214 Average Accuracy:  0.6532125768967875\n",
      "K value:  215 Average Accuracy:  0.6532125768967875\n",
      "K value:  217 Average Accuracy:  0.6532125768967875\n",
      "K value:  218 Average Accuracy:  0.6519138755980862\n",
      "K value:  220 Average Accuracy:  0.6519138755980862\n",
      "K value:  221 Average Accuracy:  0.6519138755980862\n",
      "K value:  223 Average Accuracy:  0.6519138755980862\n",
      "K value:  224 Average Accuracy:  0.6519138755980862\n",
      "K value:  226 Average Accuracy:  0.6519138755980862\n",
      "K value:  227 Average Accuracy:  0.6519138755980862\n",
      "K value:  229 Average Accuracy:  0.6519138755980862\n",
      "K value:  230 Average Accuracy:  0.6519138755980862\n",
      "K value:  232 Average Accuracy:  0.6519138755980862\n",
      "K value:  233 Average Accuracy:  0.6519138755980862\n",
      "K value:  235 Average Accuracy:  0.6519138755980862\n",
      "K value:  236 Average Accuracy:  0.6519138755980862\n",
      "K value:  238 Average Accuracy:  0.6519138755980862\n",
      "K value:  239 Average Accuracy:  0.6519138755980862\n",
      "K value:  241 Average Accuracy:  0.6519138755980862\n"
     ]
    },
    {
     "name": "stdout",
     "output_type": "stream",
     "text": [
      "K value:  242 Average Accuracy:  0.6519138755980862\n",
      "K value:  244 Average Accuracy:  0.6519138755980862\n",
      "K value:  245 Average Accuracy:  0.6519138755980862\n",
      "K value:  247 Average Accuracy:  0.6519138755980862\n",
      "K value:  248 Average Accuracy:  0.6519138755980862\n",
      "K value:  250 Average Accuracy:  0.6519138755980862\n",
      "K value:  251 Average Accuracy:  0.6519138755980862\n",
      "K value:  253 Average Accuracy:  0.6519138755980862\n",
      "K value:  254 Average Accuracy:  0.6519138755980862\n",
      "K value:  256 Average Accuracy:  0.6519138755980862\n",
      "K value:  257 Average Accuracy:  0.6519138755980862\n",
      "K value:  259 Average Accuracy:  0.6519138755980862\n",
      "K value:  260 Average Accuracy:  0.6519138755980862\n",
      "K value:  262 Average Accuracy:  0.6519138755980862\n",
      "K value:  263 Average Accuracy:  0.6519138755980862\n",
      "K value:  265 Average Accuracy:  0.6519138755980862\n",
      "K value:  266 Average Accuracy:  0.6519138755980862\n",
      "K value:  268 Average Accuracy:  0.6519138755980862\n",
      "K value:  269 Average Accuracy:  0.6519138755980862\n",
      "K value:  271 Average Accuracy:  0.6519138755980862\n",
      "K value:  272 Average Accuracy:  0.6519138755980862\n",
      "K value:  274 Average Accuracy:  0.6519138755980862\n",
      "K value:  275 Average Accuracy:  0.6519138755980862\n",
      "K value:  277 Average Accuracy:  0.6519138755980862\n",
      "K value:  278 Average Accuracy:  0.6519138755980862\n",
      "K value:  280 Average Accuracy:  0.6519138755980862\n",
      "K value:  281 Average Accuracy:  0.6519138755980862\n",
      "K value:  283 Average Accuracy:  0.6519138755980862\n",
      "K value:  284 Average Accuracy:  0.6519138755980862\n",
      "K value:  286 Average Accuracy:  0.6519138755980862\n",
      "K value:  287 Average Accuracy:  0.6519138755980862\n",
      "K value:  289 Average Accuracy:  0.6519138755980862\n",
      "K value:  290 Average Accuracy:  0.6519138755980862\n",
      "K value:  292 Average Accuracy:  0.6519138755980862\n",
      "K value:  293 Average Accuracy:  0.6519138755980862\n",
      "K value:  295 Average Accuracy:  0.6519138755980862\n",
      "K value:  296 Average Accuracy:  0.6519138755980862\n",
      "K value:  298 Average Accuracy:  0.6519138755980862\n",
      "K value:  299 Average Accuracy:  0.6519138755980862\n",
      "K value:  301 Average Accuracy:  0.6519138755980862\n",
      "K value:  302 Average Accuracy:  0.6519138755980862\n",
      "K value:  304 Average Accuracy:  0.6519138755980862\n",
      "K value:  305 Average Accuracy:  0.6519138755980862\n",
      "K value:  307 Average Accuracy:  0.6519138755980862\n",
      "K value:  308 Average Accuracy:  0.6519138755980862\n",
      "K value:  310 Average Accuracy:  0.6519138755980862\n",
      "K value:  311 Average Accuracy:  0.6519138755980862\n",
      "K value:  313 Average Accuracy:  0.6519138755980862\n",
      "K value:  314 Average Accuracy:  0.6519138755980862\n",
      "K value:  316 Average Accuracy:  0.6519138755980862\n",
      "K value:  317 Average Accuracy:  0.6519138755980862\n",
      "K value:  319 Average Accuracy:  0.6519138755980862\n",
      "K value:  320 Average Accuracy:  0.6519138755980862\n",
      "K value:  322 Average Accuracy:  0.6519138755980862\n",
      "K value:  323 Average Accuracy:  0.6519138755980862\n",
      "K value:  325 Average Accuracy:  0.6519138755980862\n",
      "K value:  326 Average Accuracy:  0.6519138755980862\n",
      "K value:  328 Average Accuracy:  0.6519138755980862\n",
      "K value:  329 Average Accuracy:  0.6519138755980862\n",
      "K value:  331 Average Accuracy:  0.6519138755980862\n",
      "K value:  332 Average Accuracy:  0.6519138755980862\n",
      "K value:  334 Average Accuracy:  0.6519138755980862\n",
      "K value:  335 Average Accuracy:  0.6519138755980862\n",
      "K value:  337 Average Accuracy:  0.6519138755980862\n",
      "K value:  338 Average Accuracy:  0.6519138755980862\n",
      "K value:  340 Average Accuracy:  0.6519138755980862\n",
      "K value:  341 Average Accuracy:  0.6519138755980862\n",
      "K value:  343 Average Accuracy:  0.6519138755980862\n",
      "K value:  344 Average Accuracy:  0.6519138755980862\n",
      "K value:  346 Average Accuracy:  0.6519138755980862\n",
      "K value:  347 Average Accuracy:  0.6519138755980862\n",
      "K value:  349 Average Accuracy:  0.6519138755980862\n",
      "K value:  350 Average Accuracy:  0.6519138755980862\n",
      "K value:  352 Average Accuracy:  0.6519138755980862\n",
      "K value:  353 Average Accuracy:  0.6519138755980862\n",
      "K value:  355 Average Accuracy:  0.6519138755980862\n",
      "K value:  356 Average Accuracy:  0.6519138755980862\n",
      "K value:  358 Average Accuracy:  0.6519138755980862\n",
      "K value:  359 Average Accuracy:  0.6519138755980862\n",
      "K value:  361 Average Accuracy:  0.6519138755980862\n",
      "K value:  362 Average Accuracy:  0.6519138755980862\n",
      "K value:  364 Average Accuracy:  0.6519138755980862\n",
      "K value:  365 Average Accuracy:  0.6519138755980862\n",
      "K value:  367 Average Accuracy:  0.6519138755980862\n",
      "K value:  368 Average Accuracy:  0.6519138755980862\n",
      "K value:  370 Average Accuracy:  0.6519138755980862\n",
      "K value:  371 Average Accuracy:  0.6519138755980862\n",
      "K value:  373 Average Accuracy:  0.6519138755980862\n",
      "K value:  374 Average Accuracy:  0.6519138755980862\n",
      "K value:  376 Average Accuracy:  0.6519138755980862\n",
      "K value:  377 Average Accuracy:  0.6519138755980862\n",
      "K value:  379 Average Accuracy:  0.6519138755980862\n",
      "K value:  380 Average Accuracy:  0.6519138755980862\n",
      "K value:  382 Average Accuracy:  0.6519138755980862\n",
      "K value:  383 Average Accuracy:  0.6519138755980862\n",
      "K value:  385 Average Accuracy:  0.6519138755980862\n",
      "K value:  386 Average Accuracy:  0.6519138755980862\n",
      "K value:  388 Average Accuracy:  0.6519138755980862\n",
      "K value:  389 Average Accuracy:  0.6519138755980862\n",
      "K value:  391 Average Accuracy:  0.6519138755980862\n",
      "K value:  392 Average Accuracy:  0.6519138755980862\n",
      "K value:  394 Average Accuracy:  0.6519138755980862\n",
      "K value:  395 Average Accuracy:  0.6519138755980862\n",
      "K value:  397 Average Accuracy:  0.6519138755980862\n",
      "K value:  398 Average Accuracy:  0.6519138755980862\n",
      "K value:  400 Average Accuracy:  0.6519138755980862\n",
      "K value:  401 Average Accuracy:  0.6519138755980862\n",
      "K value:  403 Average Accuracy:  0.6519138755980862\n",
      "K value:  404 Average Accuracy:  0.6519138755980862\n",
      "K value:  406 Average Accuracy:  0.6519138755980862\n",
      "K value:  407 Average Accuracy:  0.6519138755980862\n",
      "K value:  409 Average Accuracy:  0.6519138755980862\n",
      "K value:  410 Average Accuracy:  0.6519138755980862\n",
      "K value:  412 Average Accuracy:  0.6519138755980862\n",
      "K value:  413 Average Accuracy:  0.6519138755980862\n",
      "K value:  415 Average Accuracy:  0.6519138755980862\n",
      "K value:  416 Average Accuracy:  0.6519138755980862\n",
      "K value:  418 Average Accuracy:  0.6519138755980862\n",
      "K value:  419 Average Accuracy:  0.6519138755980862\n",
      "K value:  421 Average Accuracy:  0.6519138755980862\n",
      "K value:  422 Average Accuracy:  0.6519138755980862\n",
      "K value:  424 Average Accuracy:  0.6519138755980862\n",
      "K value:  425 Average Accuracy:  0.6519138755980862\n",
      "K value:  427 Average Accuracy:  0.6519138755980862\n",
      "K value:  428 Average Accuracy:  0.6519138755980862\n",
      "K value:  430 Average Accuracy:  0.6519138755980862\n",
      "K value:  431 Average Accuracy:  0.6519138755980862\n",
      "K value:  433 Average Accuracy:  0.6519138755980862\n",
      "K value:  434 Average Accuracy:  0.6519138755980862\n",
      "K value:  436 Average Accuracy:  0.6519138755980862\n",
      "K value:  437 Average Accuracy:  0.6519138755980862\n",
      "K value:  439 Average Accuracy:  0.6519138755980862\n",
      "K value:  440 Average Accuracy:  0.6519138755980862\n",
      "K value:  442 Average Accuracy:  0.6519138755980862\n",
      "K value:  443 Average Accuracy:  0.6519138755980862\n",
      "K value:  445 Average Accuracy:  0.6519138755980862\n",
      "K value:  446 Average Accuracy:  0.6519138755980862\n",
      "K value:  448 Average Accuracy:  0.6519138755980862\n",
      "K value:  449 Average Accuracy:  0.6519138755980862\n",
      "K value:  451 Average Accuracy:  0.6519138755980862\n",
      "K value:  452 Average Accuracy:  0.6519138755980862\n",
      "K value:  454 Average Accuracy:  0.6519138755980862\n",
      "K value:  455 Average Accuracy:  0.6519138755980862\n",
      "K value:  457 Average Accuracy:  0.6519138755980862\n",
      "K value:  458 Average Accuracy:  0.6519138755980862\n",
      "K value:  460 Average Accuracy:  0.6519138755980862\n",
      "K value:  461 Average Accuracy:  0.6519138755980862\n",
      "K value:  463 Average Accuracy:  0.6519138755980862\n",
      "K value:  464 Average Accuracy:  0.6519138755980862\n",
      "K value:  466 Average Accuracy:  0.6519138755980862\n",
      "K value:  467 Average Accuracy:  0.6519138755980862\n",
      "K value:  469 Average Accuracy:  0.6519138755980862\n",
      "K value:  470 Average Accuracy:  0.6519138755980862\n",
      "K value:  472 Average Accuracy:  0.6519138755980862\n",
      "K value:  473 Average Accuracy:  0.6519138755980862\n",
      "K value:  475 Average Accuracy:  0.6519138755980862\n",
      "K value:  476 Average Accuracy:  0.6519138755980862\n",
      "K value:  478 Average Accuracy:  0.6519138755980862\n"
     ]
    },
    {
     "name": "stdout",
     "output_type": "stream",
     "text": [
      "K value:  479 Average Accuracy:  0.6519138755980862\n",
      "K value:  481 Average Accuracy:  0.6519138755980862\n",
      "K value:  482 Average Accuracy:  0.6519138755980862\n",
      "K value:  484 Average Accuracy:  0.6519138755980862\n",
      "K value:  485 Average Accuracy:  0.6519138755980862\n",
      "K value:  487 Average Accuracy:  0.6519138755980862\n",
      "K value:  488 Average Accuracy:  0.6519138755980862\n",
      "K value:  490 Average Accuracy:  0.6519138755980862\n",
      "K value:  491 Average Accuracy:  0.6519138755980862\n",
      "K value:  493 Average Accuracy:  0.6519138755980862\n",
      "K value:  494 Average Accuracy:  0.6519138755980862\n",
      "K value:  496 Average Accuracy:  0.6519138755980862\n",
      "K value:  497 Average Accuracy:  0.6519138755980862\n",
      "K value:  499 Average Accuracy:  0.6519138755980862\n",
      "K value:  500 Average Accuracy:  0.6519138755980862\n",
      "K value:  502 Average Accuracy:  0.6519138755980862\n",
      "K value:  503 Average Accuracy:  0.6519138755980862\n",
      "K value:  505 Average Accuracy:  0.6519138755980862\n",
      "K value:  506 Average Accuracy:  0.6519138755980862\n",
      "K value:  508 Average Accuracy:  0.6519138755980862\n",
      "K value:  509 Average Accuracy:  0.6519138755980862\n",
      "K value:  511 Average Accuracy:  0.6519138755980862\n",
      "K value:  512 Average Accuracy:  0.6519138755980862\n",
      "K value:  514 Average Accuracy:  0.6519138755980862\n",
      "K value:  515 Average Accuracy:  0.6519138755980862\n",
      "K value:  517 Average Accuracy:  0.6519138755980862\n",
      "K value:  518 Average Accuracy:  0.6519138755980862\n",
      "K value:  520 Average Accuracy:  0.6519138755980862\n",
      "K value:  521 Average Accuracy:  0.6519138755980862\n",
      "K value:  523 Average Accuracy:  0.6519138755980862\n",
      "K value:  524 Average Accuracy:  0.6519138755980862\n",
      "K value:  526 Average Accuracy:  0.6519138755980862\n",
      "K value:  527 Average Accuracy:  0.6519138755980862\n",
      "K value:  529 Average Accuracy:  0.6519138755980862\n",
      "K value:  530 Average Accuracy:  0.6519138755980862\n",
      "K value:  532 Average Accuracy:  0.6519138755980862\n",
      "K value:  533 Average Accuracy:  0.6519138755980862\n",
      "K value:  535 Average Accuracy:  0.6519138755980862\n",
      "K value:  536 Average Accuracy:  0.6519138755980862\n",
      "K value:  538 Average Accuracy:  0.6519138755980862\n",
      "K value:  539 Average Accuracy:  0.6519138755980862\n",
      "K value:  541 Average Accuracy:  0.6519138755980862\n",
      "K value:  542 Average Accuracy:  0.6519138755980862\n",
      "K value:  544 Average Accuracy:  0.6519138755980862\n",
      "K value:  545 Average Accuracy:  0.6519138755980862\n",
      "K value:  547 Average Accuracy:  0.6519138755980862\n",
      "K value:  548 Average Accuracy:  0.6519138755980862\n",
      "K value:  550 Average Accuracy:  0.6519138755980862\n",
      "K value:  551 Average Accuracy:  0.6519138755980862\n",
      "K value:  553 Average Accuracy:  0.6519138755980862\n",
      "K value:  554 Average Accuracy:  0.6519138755980862\n",
      "K value:  556 Average Accuracy:  0.6519138755980862\n",
      "K value:  557 Average Accuracy:  0.6519138755980862\n",
      "K value:  559 Average Accuracy:  0.6519138755980862\n",
      "K value:  560 Average Accuracy:  0.6519138755980862\n",
      "K value:  562 Average Accuracy:  0.6519138755980862\n",
      "K value:  563 Average Accuracy:  0.6519138755980862\n",
      "K value:  565 Average Accuracy:  0.6519138755980862\n",
      "K value:  566 Average Accuracy:  0.6519138755980862\n",
      "K value:  568 Average Accuracy:  0.6519138755980862\n",
      "K value:  569 Average Accuracy:  0.6519138755980862\n",
      "K value:  571 Average Accuracy:  0.6519138755980862\n",
      "K value:  572 Average Accuracy:  0.6519138755980862\n",
      "K value:  574 Average Accuracy:  0.6519138755980862\n",
      "K value:  575 Average Accuracy:  0.6519138755980862\n",
      "K value:  577 Average Accuracy:  0.6519138755980862\n",
      "K value:  578 Average Accuracy:  0.6519138755980862\n",
      "K value:  580 Average Accuracy:  0.6519138755980862\n",
      "K value:  581 Average Accuracy:  0.6519138755980862\n",
      "K value:  583 Average Accuracy:  0.6519138755980862\n",
      "K value:  584 Average Accuracy:  0.6519138755980862\n",
      "K value:  586 Average Accuracy:  0.6519138755980862\n",
      "K value:  587 Average Accuracy:  0.6519138755980862\n",
      "K value:  589 Average Accuracy:  0.6519138755980862\n",
      "K value:  590 Average Accuracy:  0.6519138755980862\n",
      "K value:  592 Average Accuracy:  0.6519138755980862\n",
      "K value:  593 Average Accuracy:  0.6519138755980862\n",
      "K value:  595 Average Accuracy:  0.6519138755980862\n",
      "K value:  596 Average Accuracy:  0.6519138755980862\n",
      "K value:  598 Average Accuracy:  0.6519138755980862\n",
      "K value:  599 Average Accuracy:  0.6519138755980862\n",
      "K value:  601 Average Accuracy:  0.6519138755980862\n",
      "K value:  602 Average Accuracy:  0.6519138755980862\n",
      "K value:  604 Average Accuracy:  0.6519138755980862\n",
      "K value:  605 Average Accuracy:  0.6519138755980862\n",
      "K value:  607 Average Accuracy:  0.6519138755980862\n",
      "K value:  608 Average Accuracy:  0.6519138755980862\n",
      "K value:  610 Average Accuracy:  0.6519138755980862\n",
      "K value:  611 Average Accuracy:  0.6519138755980862\n",
      "K value:  613 Average Accuracy:  0.6519138755980862\n",
      "K value:  614 Average Accuracy:  0.6519138755980862\n",
      "K value:  616 Average Accuracy:  0.6519138755980862\n",
      "K value:  617 Average Accuracy:  0.6519138755980862\n",
      "K value:  619 Average Accuracy:  0.6519138755980862\n",
      "K value:  620 Average Accuracy:  0.6519138755980862\n",
      "K value:  622 Average Accuracy:  0.6519138755980862\n",
      "K value:  623 Average Accuracy:  0.6519138755980862\n",
      "K value:  625 Average Accuracy:  0.6519138755980862\n",
      "K value:  626 Average Accuracy:  0.6519138755980862\n",
      "K value:  628 Average Accuracy:  0.6519138755980862\n",
      "K value:  629 Average Accuracy:  0.6519138755980862\n",
      "K value:  631 Average Accuracy:  0.6519138755980862\n",
      "K value:  632 Average Accuracy:  0.6519138755980862\n",
      "K value:  634 Average Accuracy:  0.6519138755980862\n",
      "K value:  635 Average Accuracy:  0.6519138755980862\n",
      "K value:  637 Average Accuracy:  0.6519138755980862\n",
      "K value:  638 Average Accuracy:  0.6519138755980862\n",
      "K value:  640 Average Accuracy:  0.6519138755980862\n",
      "K value:  641 Average Accuracy:  0.6519138755980862\n",
      "K value:  643 Average Accuracy:  0.6519138755980862\n",
      "K value:  644 Average Accuracy:  0.6519138755980862\n",
      "K value:  646 Average Accuracy:  0.6519138755980862\n",
      "K value:  647 Average Accuracy:  0.6519138755980862\n",
      "K value:  649 Average Accuracy:  0.6519138755980862\n",
      "K value:  650 Average Accuracy:  0.6519138755980862\n",
      "K value:  652 Average Accuracy:  0.6519138755980862\n",
      "K value:  653 Average Accuracy:  0.6519138755980862\n",
      "K value:  655 Average Accuracy:  0.6519138755980862\n",
      "K value:  656 Average Accuracy:  0.6519138755980862\n",
      "K value:  658 Average Accuracy:  0.6519138755980862\n",
      "K value:  659 Average Accuracy:  0.6519138755980862\n",
      "K value:  661 Average Accuracy:  0.6519138755980862\n",
      "K value:  662 Average Accuracy:  0.6519138755980862\n",
      "K value:  664 Average Accuracy:  0.6519138755980862\n",
      "K value:  665 Average Accuracy:  0.6519138755980862\n",
      "K value:  667 Average Accuracy:  0.6519138755980862\n",
      "K value:  668 Average Accuracy:  0.6519138755980862\n",
      "K value:  670 Average Accuracy:  0.6519138755980862\n",
      "K value:  671 Average Accuracy:  0.6519138755980862\n",
      "K value:  673 Average Accuracy:  0.6519138755980862\n",
      "K value:  674 Average Accuracy:  0.6519138755980862\n",
      "K value:  676 Average Accuracy:  0.6519138755980862\n",
      "K value:  677 Average Accuracy:  0.6519138755980862\n",
      "K value:  679 Average Accuracy:  0.6519138755980862\n",
      "K value:  680 Average Accuracy:  0.6519138755980862\n",
      "K value:  682 Average Accuracy:  0.6519138755980862\n",
      "K value:  683 Average Accuracy:  0.6519138755980862\n",
      "K value:  685 Average Accuracy:  0.6519138755980862\n",
      "K value:  686 Average Accuracy:  0.6519138755980862\n",
      "K value:  688 Average Accuracy:  0.6519138755980862\n",
      "K value:  689 Average Accuracy:  0.6519138755980862\n"
     ]
    }
   ],
   "source": [
    "#---holds the cv (cross-validates) scores---#\n",
    "cv_scores=[]\n",
    "\n",
    "#---use all features---#\n",
    "X=df_array[:,:8]               #### select all features except c, select all columns\n",
    "#X=df_array[:,[5,7]]           #### select Age and BMI\n",
    "y=df.c # k = target (classes)\n",
    "\n",
    "#---number of folds---#\n",
    "folds=10\n",
    "\n",
    "#---creating odd list of K for KNN---#\n",
    "ks=list(range(1,int(len(X)*((folds-1)/folds))))\n",
    "\n",
    "#---remove all multiples of 3---#\n",
    "ks=[ck for ck in ks if ck % 3 !=0]\n",
    "\n",
    "#---perform k-fold cross-validation---#\n",
    "for k in ks:\n",
    "    knn=KNeighborsClassifier(n_neighbors=k)\n",
    "    \n",
    "    #---performs cross-validation and returns the average accuracy---#\n",
    "    scores= cross_val_score(knn,X,y,cv=folds,scoring='accuracy')\n",
    "    mean=scores.mean()\n",
    "    cv_scores.append(mean)\n",
    "    print('K value: ', k, 'Average Accuracy: ', mean)\n",
    "    "
   ]
  },
  {
   "cell_type": "code",
   "execution_count": 21,
   "metadata": {},
   "outputs": [
    {
     "name": "stdout",
     "output_type": "stream",
     "text": [
      "[1, 2, 4, 5, 7, 8, 10, 11, 13, 14, 16, 17, 19, 20, 22, 23, 25, 26, 28, 29, 31, 32, 34, 35, 37, 38, 40, 41, 43, 44, 46, 47, 49, 50, 52, 53, 55, 56, 58, 59, 61, 62, 64, 65, 67, 68, 70, 71, 73, 74, 76, 77, 79, 80, 82, 83, 85, 86, 88, 89, 91, 92, 94, 95, 97, 98, 100, 101, 103, 104, 106, 107, 109, 110, 112, 113, 115, 116, 118, 119, 121, 122, 124, 125, 127, 128, 130, 131, 133, 134, 136, 137, 139, 140, 142, 143, 145, 146, 148, 149, 151, 152, 154, 155, 157, 158, 160, 161, 163, 164, 166, 167, 169, 170, 172, 173, 175, 176, 178, 179, 181, 182, 184, 185, 187, 188, 190, 191, 193, 194, 196, 197, 199, 200, 202, 203, 205, 206, 208, 209, 211, 212, 214, 215, 217, 218, 220, 221, 223, 224, 226, 227, 229, 230, 232, 233, 235, 236, 238, 239, 241, 242, 244, 245, 247, 248, 250, 251, 253, 254, 256, 257, 259, 260, 262, 263, 265, 266, 268, 269, 271, 272, 274, 275, 277, 278, 280, 281, 283, 284, 286, 287, 289, 290, 292, 293, 295, 296, 298, 299, 301, 302, 304, 305, 307, 308, 310, 311, 313, 314, 316, 317, 319, 320, 322, 323, 325, 326, 328, 329, 331, 332, 334, 335, 337, 338, 340, 341, 343, 344, 346, 347, 349, 350, 352, 353, 355, 356, 358, 359, 361, 362, 364, 365, 367, 368, 370, 371, 373, 374, 376, 377, 379, 380, 382, 383, 385, 386, 388, 389, 391, 392, 394, 395, 397, 398, 400, 401, 403, 404, 406, 407, 409, 410, 412, 413, 415, 416, 418, 419, 421, 422, 424, 425, 427, 428, 430, 431, 433, 434, 436, 437, 439, 440, 442, 443, 445, 446, 448, 449, 451, 452, 454, 455, 457, 458, 460, 461, 463, 464, 466, 467, 469, 470, 472, 473, 475, 476, 478, 479, 481, 482, 484, 485, 487, 488, 490, 491, 493, 494, 496, 497, 499, 500, 502, 503, 505, 506, 508, 509, 511, 512, 514, 515, 517, 518, 520, 521, 523, 524, 526, 527, 529, 530, 532, 533, 535, 536, 538, 539, 541, 542, 544, 545, 547, 548, 550, 551, 553, 554, 556, 557, 559, 560, 562, 563, 565, 566, 568, 569, 571, 572, 574, 575, 577, 578, 580, 581, 583, 584, 586, 587, 589, 590, 592, 593, 595, 596, 598, 599, 601, 602, 604, 605, 607, 608, 610, 611, 613, 614, 616, 617, 619, 620, 622, 623, 625, 626, 628, 629, 631, 632, 634, 635, 637, 638, 640, 641, 643, 644, 646, 647, 649, 650, 652, 653, 655, 656, 658, 659, 661, 662, 664, 665, 667, 668, 670, 671, 673, 674, 676, 677, 679, 680, 682, 683, 685, 686, 688, 689]\n"
     ]
    }
   ],
   "source": [
    "print(ks)"
   ]
  },
  {
   "cell_type": "code",
   "execution_count": 22,
   "metadata": {},
   "outputs": [
    {
     "name": "stdout",
     "output_type": "stream",
     "text": [
      "The optimal number of neighbors is 17\n",
      "This is a simulation where I use all features \n"
     ]
    },
    {
     "data": {
      "image/png": "[encoded data removed]",
      "text/plain": [
       "<Figure size 432x288 with 1 Axes>"
      ]
     },
     "metadata": {
      "needs_background": "light"
     },
     "output_type": "display_data"
    }
   ],
   "source": [
    "#---calculate misclassification error for each k---#\n",
    "MSE=[1-x for x in cv_scores]\n",
    "\n",
    "#---dtermining best k (min.MSE)---#\n",
    "optimal_k=ks[MSE.index(min(MSE))]\n",
    "print(f\"The optimal number of neighbors is {optimal_k}\")\n",
    "print('This is a simulation where I use all features ')\n",
    "\n",
    "#---plot misclassification error vs k---#\n",
    "plt.plot(ks,MSE)\n",
    "plt.xlabel('Number of Neighbors K')\n",
    "plt.ylabel('Misclassification Error')\n",
    "plt.show()"
   ]
  },
  {
   "cell_type": "markdown",
   "metadata": {},
   "source": [
    "# LAB5 KNN Classification on Diabetes Part4"
   ]
  },
  {
   "cell_type": "markdown",
   "metadata": {},
   "source": [
    "For the KNN algorithm with the optimal K in part 4, calculate the accuracy, the precision and the recall. Also graph the ROC and estimate AUC. Use part 1 as a guide. Compare the KNN and the LR algorithms. Which one performs better as a classifier for diabetes prediction. Include a table that compares the accuracy metrics of the two algorithms\n"
   ]
  },
  {
   "cell_type": "code",
   "execution_count": 23,
   "metadata": {},
   "outputs": [],
   "source": [
    "X=df_array[:,:8]           #### select All\n",
    "y=df.c # k = target (classes)"
   ]
  },
  {
   "cell_type": "markdown",
   "metadata": {},
   "source": [
    "### 2. Evaluation procedure 2 - Train/test split¶"
   ]
  },
  {
   "cell_type": "markdown",
   "metadata": {},
   "source": [
    "1. Split the dataset into two pieces: a training set and a testing set.  \n",
    "2. Train the model on the training set.  \n",
    "3. Test the model on the testing set, and evaluate how well we did.  "
   ]
  },
  {
   "cell_type": "code",
   "execution_count": 24,
   "metadata": {},
   "outputs": [
    {
     "name": "stdout",
     "output_type": "stream",
     "text": [
      "(767, 8)\n",
      "(767,)\n"
     ]
    }
   ],
   "source": [
    "# print the shapes of X and y\n",
    "# X is our features matrix with 150 x 4 dimension\n",
    "print(X.shape)\n",
    "# y is our response vector with 150 x 1 dimension\n",
    "print(y.shape)"
   ]
  },
  {
   "cell_type": "code",
   "execution_count": 25,
   "metadata": {},
   "outputs": [],
   "source": [
    "# STEP 1: split X and y into training and testing sets\n",
    "from sklearn.model_selection import train_test_split\n",
    "X_train, X_test, y_train, y_test = train_test_split(\n",
    "                         X, \n",
    "                         y, \n",
    "                         test_size=0.4, \n",
    "                         random_state=2)"
   ]
  },
  {
   "cell_type": "markdown",
   "metadata": {},
   "source": [
    "X_train = train_set   \n",
    "X_test = test_set  \n",
    "y_train = train_labels  \n",
    "y_test = test_labels"
   ]
  },
  {
   "cell_type": "markdown",
   "metadata": {},
   "source": [
    "- test_size=0.4\n",
    "40% of observations to test set  \n",
    "60% of observations to training set  \n",
    "\n",
    "\n",
    "- data is randomly assigned unless you use random_state hyperparameter\n",
    "If you use random_state=4  \n",
    "Your data will be split exactly the same way  "
   ]
  },
  {
   "cell_type": "code",
   "execution_count": 26,
   "metadata": {},
   "outputs": [
    {
     "name": "stdout",
     "output_type": "stream",
     "text": [
      "(460, 8)\n",
      "(307, 8)\n"
     ]
    }
   ],
   "source": [
    "# print the shapes of the new X objects\n",
    "print(X_train.shape)\n",
    "print(X_test.shape)"
   ]
  },
  {
   "cell_type": "code",
   "execution_count": 27,
   "metadata": {},
   "outputs": [
    {
     "name": "stdout",
     "output_type": "stream",
     "text": [
      "(460,)\n",
      "(307,)\n"
     ]
    }
   ],
   "source": [
    "# print the shapes of the new y objects\n",
    "print(y_train.shape)\n",
    "print(y_test.shape)"
   ]
  },
  {
   "cell_type": "code",
   "execution_count": 44,
   "metadata": {},
   "outputs": [
    {
     "name": "stdout",
     "output_type": "stream",
     "text": [
      "--- Accuracy ---- k = 5\n",
      "0.7361563517915309\n"
     ]
    }
   ],
   "source": [
    "knn = KNeighborsClassifier(n_neighbors=17)\n",
    "knn.fit(X_train, y_train)\n",
    "y_pred = knn.predict(X_test)\n",
    "print(\"--- Accuracy ---- k = 5\")\n",
    "print(metrics.accuracy_score(y_test, y_pred))"
   ]
  },
  {
   "cell_type": "code",
   "execution_count": 29,
   "metadata": {},
   "outputs": [
    {
     "name": "stdout",
     "output_type": "stream",
     "text": [
      "--- Accuracy ---- k = 30\n",
      "0.7719869706840391\n"
     ]
    }
   ],
   "source": [
    "knn = KNeighborsClassifier(n_neighbors=30) # choose k \n",
    "knn.fit(X_train, y_train)\n",
    "y_pred = knn.predict(X_test)\n",
    "print(\"--- Accuracy ---- k = 30\")\n",
    "\n",
    "print(metrics.accuracy_score(y_test, y_pred))"
   ]
  },
  {
   "cell_type": "code",
   "execution_count": null,
   "metadata": {},
   "outputs": [],
   "source": []
  },
  {
   "cell_type": "code",
   "execution_count": 30,
   "metadata": {},
   "outputs": [
    {
     "name": "stdout",
     "output_type": "stream",
     "text": [
      "[0.6677524429967426, 0.6872964169381107, 0.6644951140065146, 0.7035830618892508, 0.7133550488599348, 0.7035830618892508, 0.7035830618892508, 0.7263843648208469, 0.7328990228013029, 0.7263843648208469, 0.752442996742671, 0.7328990228013029, 0.7296416938110749, 0.7328990228013029, 0.7231270358306189, 0.7361563517915309, 0.7361563517915309, 0.739413680781759, 0.755700325732899, 0.749185667752443, 0.7361563517915309, 0.745928338762215, 0.742671009771987, 0.752442996742671, 0.749185667752443, 0.752442996742671, 0.762214983713355, 0.762214983713355, 0.762214983713355, 0.7719869706840391, 0.749185667752443, 0.749185667752443, 0.745928338762215, 0.745928338762215, 0.745928338762215, 0.758957654723127, 0.758957654723127, 0.755700325732899, 0.745928338762215]\n"
     ]
    }
   ],
   "source": [
    "# try K=1 through K=n and record testing accuracy\n",
    "k_range = range(1, 40)\n",
    "\n",
    "# We can create Python dictionary using [] or dict()\n",
    "scores = []\n",
    "\n",
    "# We use a loop through the range 1 to something\n",
    "# We append the scores in the dictionary\n",
    "for k in k_range:\n",
    "    knn = KNeighborsClassifier(n_neighbors=k)\n",
    "    knn.fit(X_train, y_train)\n",
    "    y_pred = knn.predict(X_test)\n",
    "    scores.append(metrics.accuracy_score(y_test, y_pred))\n",
    "\n",
    "print(scores)"
   ]
  },
  {
   "cell_type": "code",
   "execution_count": 31,
   "metadata": {},
   "outputs": [
    {
     "data": {
      "text/plain": [
       "Text(0, 0.5, 'Testing Accuracy')"
      ]
     },
     "execution_count": 31,
     "metadata": {},
     "output_type": "execute_result"
    },
    {
     "data": {
      "image/png": "[encoded data removed]",
      "text/plain": [
       "<Figure size 432x288 with 1 Axes>"
      ]
     },
     "metadata": {
      "needs_background": "light"
     },
     "output_type": "display_data"
    }
   ],
   "source": [
    "# import Matplotlib (scientific plotting library)\n",
    "import matplotlib.pyplot as plt\n",
    "\n",
    "# allow plots to appear within the notebook\n",
    "%matplotlib inline\n",
    "\n",
    "# plot the relationship between K and testing accuracy\n",
    "# plt.plot(x_axis, y_axis)\n",
    "plt.plot(k_range, scores)\n",
    "plt.xlabel('Value of K for KNN')\n",
    "plt.ylabel('Testing Accuracy')"
   ]
  },
  {
   "cell_type": "markdown",
   "metadata": {},
   "source": [
    "- Training accuracy rises as model complexity increases  \n",
    "- Testing accuracy penalizes models that are too complex or not complex enough  \n",
    "- For KNN models, complexity is determined by the value of K (lower value = more complex)  "
   ]
  },
  {
   "cell_type": "code",
   "execution_count": 32,
   "metadata": {},
   "outputs": [],
   "source": [
    "# get a predicted probabilities and convert into a dataframe\n",
    "preds_prob = pd.DataFrame(knn.predict_proba(X_test))"
   ]
  },
  {
   "cell_type": "code",
   "execution_count": 33,
   "metadata": {},
   "outputs": [],
   "source": [
    "# assign column names to prediction\n",
    "preds_prob.columns = [\"Malignant\", \"Benign\"]"
   ]
  },
  {
   "cell_type": "code",
   "execution_count": 34,
   "metadata": {},
   "outputs": [],
   "source": [
    "# get the predicted class labels\n",
    "preds = knn.predict(X_test)\n",
    "preds_class = pd.DataFrame(preds)\n",
    "preds_class.columns = [\"Prediction\"]"
   ]
  },
  {
   "cell_type": "code",
   "execution_count": 35,
   "metadata": {},
   "outputs": [],
   "source": [
    "# actual diagnosis\n",
    "original_result = pd.DataFrame(y_test)\n",
    "original_result.columns = [\"Original Result\"]"
   ]
  },
  {
   "cell_type": "code",
   "execution_count": 36,
   "metadata": {},
   "outputs": [
    {
     "name": "stdout",
     "output_type": "stream",
     "text": [
      "   Malignant    Benign  Prediction  Original Result\n",
      "0   0.948718  0.051282         0.0              NaN\n",
      "1   0.948718  0.051282         0.0              1.0\n",
      "2   0.820513  0.179487         0.0              NaN\n",
      "3   0.256410  0.743590         1.0              1.0\n",
      "4   0.974359  0.025641         0.0              NaN\n"
     ]
    }
   ],
   "source": [
    "# Merge the three dataframes into one\n",
    "result = pd.concat([preds_prob, preds_class, original_result], axis =1)\n",
    "print(result.head())"
   ]
  },
  {
   "cell_type": "markdown",
   "metadata": {},
   "source": [
    "### Getting the Confusion Matrix"
   ]
  },
  {
   "cell_type": "code",
   "execution_count": 37,
   "metadata": {},
   "outputs": [
    {
     "name": "stdout",
     "output_type": "stream",
     "text": [
      "--- confusion Matrix ---\n",
      "c        0   1\n",
      "row_0         \n",
      "0      175  52\n",
      "1       26  54\n"
     ]
    }
   ],
   "source": [
    "# generate table of predictions vs actual\n",
    "print(\"--- confusion Matrix ---\")\n",
    "print(pd.crosstab(preds, y_test))"
   ]
  },
  {
   "cell_type": "code",
   "execution_count": 38,
   "metadata": {},
   "outputs": [
    {
     "name": "stdout",
     "output_type": "stream",
     "text": [
      "[[175  26]\n",
      " [ 52  54]]\n"
     ]
    }
   ],
   "source": [
    "# --- view the confusion matrix -- \n",
    "print(metrics.confusion_matrix(y_true = y_test,\n",
    "                               y_pred = preds))"
   ]
  },
  {
   "cell_type": "code",
   "execution_count": 39,
   "metadata": {},
   "outputs": [
    {
     "name": "stdout",
     "output_type": "stream",
     "text": [
      "--- Metrices----\n",
      "              precision    recall  f1-score   support\n",
      "\n",
      "           0       0.77      0.87      0.82       201\n",
      "           1       0.68      0.51      0.58       106\n",
      "\n",
      "    accuracy                           0.75       307\n",
      "   macro avg       0.72      0.69      0.70       307\n",
      "weighted avg       0.74      0.75      0.74       307\n",
      "\n"
     ]
    }
   ],
   "source": [
    "# View summary of common classfication metrics\n",
    "print(\"--- Metrices----\")\n",
    "\n",
    "print(metrics.classification_report(\n",
    "      y_true = y_test,\n",
    "      y_pred = preds))"
   ]
  },
  {
   "cell_type": "markdown",
   "metadata": {},
   "source": [
    "### Receiving Operating Characteristic (ROC) Curve"
   ]
  },
  {
   "cell_type": "code",
   "execution_count": 40,
   "metadata": {},
   "outputs": [],
   "source": [
    "# find the predicted probabilities using the test set\n",
    "\n",
    "probs = knn.predict_proba(X_test)\n",
    "preds = probs[:,1]\n",
    "\n",
    "# find the FPR, TPR, and threshold\n",
    "fpr, tpr, threshold  = roc_curve(y_test, preds)\n"
   ]
  },
  {
   "cell_type": "code",
   "execution_count": 41,
   "metadata": {},
   "outputs": [
    {
     "name": "stdout",
     "output_type": "stream",
     "text": [
      "[0.         0.         0.         0.00995025 0.01492537 0.02487562\n",
      " 0.02985075 0.03482587 0.07462687 0.09452736 0.12935323 0.15920398\n",
      " 0.17910448 0.26865672 0.30348259 0.35323383 0.39303483 0.43781095\n",
      " 0.46766169 0.51741294 0.54726368 0.5721393  0.64676617 0.68159204\n",
      " 0.83084577 0.89552239 0.94527363 1.        ]\n",
      "[0.         0.00943396 0.05660377 0.10377358 0.13207547 0.1509434\n",
      " 0.19811321 0.22641509 0.35849057 0.46226415 0.50943396 0.56603774\n",
      " 0.59433962 0.66981132 0.71698113 0.75471698 0.81132075 0.8490566\n",
      " 0.87735849 0.90566038 0.93396226 0.95283019 0.95283019 0.96226415\n",
      " 0.98113208 0.99056604 1.         1.        ]\n",
      "[1.76923077 0.76923077 0.74358974 0.69230769 0.66666667 0.64102564\n",
      " 0.61538462 0.58974359 0.56410256 0.53846154 0.51282051 0.48717949\n",
      " 0.46153846 0.41025641 0.38461538 0.35897436 0.33333333 0.30769231\n",
      " 0.28205128 0.25641026 0.23076923 0.20512821 0.17948718 0.15384615\n",
      " 0.1025641  0.07692308 0.05128205 0.02564103]\n"
     ]
    }
   ],
   "source": [
    "print(fpr)\n",
    "print(tpr)\n",
    "print(threshold)"
   ]
  },
  {
   "cell_type": "markdown",
   "metadata": {},
   "source": [
    "### Plotting the ROC and Finding the Area Under the Curve (AUC)\n"
   ]
  },
  {
   "cell_type": "code",
   "execution_count": 42,
   "metadata": {},
   "outputs": [],
   "source": [
    "# find the area under the curve\n",
    "roc_auc = auc(fpr, tpr)"
   ]
  },
  {
   "cell_type": "code",
   "execution_count": 43,
   "metadata": {},
   "outputs": [
    {
     "data": {
      "image/png": "[encoded data removed]",
      "text/plain": [
       "<Figure size 432x288 with 1 Axes>"
      ]
     },
     "metadata": {
      "needs_background": "light"
     },
     "output_type": "display_data"
    }
   ],
   "source": [
    "plt.plot(fpr, tpr, 'b', label = 'AUC = %0.2f' % roc_auc)\n",
    "plt.plot([0,1], [0,1], 'r--')\n",
    "plt.xlim([0,1])\n",
    "plt.ylim([0,1])\n",
    "plt.ylabel('True Positive Rate (TPR)')\n",
    "plt.xlabel('False Positive Rate (FPR)')\n",
    "plt.title('KNN: Receiver Opearating CHaracteristic (ROC)')\n",
    "plt.legend(loc = 'lower right')\n",
    "plt.show()"
   ]
  },
  {
   "cell_type": "markdown",
   "metadata": {},
   "source": [
    "# Report:\n",
    "#### Accuracy\n",
    "LR:0.78,                  vs   KNN(k=30): 0.77 \n",
    "#### Precision  \n",
    "LR:0.79(0), 0.77(1)   vs    KNN: 0.63(0), 0.30(1)\n",
    "#### Recall\n",
    "LR:0.91(0), 0.54(1)   vs   KNN: 0.67(0), 0.26(1)\n",
    "#### AUC value\n",
    "LR:0.86,                  vs    KNN: 0.45 \n"
   ]
  },
  {
   "cell_type": "code",
   "execution_count": null,
   "metadata": {},
   "outputs": [],
   "source": []
  }
 ],
 "metadata": {
  "kernelspec": {
   "display_name": "Python 3",
   "language": "python",
   "name": "python3"
  },
  "language_info": {
   "codemirror_mode": {
    "name": "ipython",
    "version": 3
   },
   "file_extension": ".py",
   "mimetype": "text/x-python",
   "name": "python",
   "nbconvert_exporter": "python",
   "pygments_lexer": "ipython3",
   "version": "3.8.3"
  }
 },
 "nbformat": 4,
 "nbformat_minor": 4
}
