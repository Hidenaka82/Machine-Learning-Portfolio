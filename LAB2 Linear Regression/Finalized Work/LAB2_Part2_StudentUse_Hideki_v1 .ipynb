{
 "cells": [
  {
   "cell_type": "markdown",
   "metadata": {
    "id": "12jCJbWFXuFm"
   },
   "source": [
    "# Linear Regression with Health Datasets"
   ]
  },
  {
   "cell_type": "markdown",
   "metadata": {
    "id": "qCs1aj-iXuFn"
   },
   "source": [
    "Datasets: from kaggles https://www.kaggle.com/nareshbhat/health-care-data-set-on-heart-attack-possibility?select=heart.csv"
   ]
  },
  {
   "cell_type": "markdown",
   "metadata": {
    "id": "8gvO6AUcXuFo"
   },
   "source": [
    "# Simple Linear Regression"
   ]
  },
  {
   "cell_type": "markdown",
   "metadata": {
    "id": "mI42i9hHXuFo"
   },
   "source": [
    "## 1. Import libraries"
   ]
  },
  {
   "cell_type": "code",
   "execution_count": null,
   "metadata": {
    "id": "3X_bOTgfXuFo"
   },
   "outputs": [],
   "source": []
  },
  {
   "cell_type": "markdown",
   "metadata": {
    "id": "T1X1aZNCXuFp"
   },
   "source": [
    "## 2. Import excel data file into pandas data frame"
   ]
  },
  {
   "cell_type": "markdown",
   "metadata": {
    "id": "RSqu7G_kXuFp"
   },
   "source": [
    "Data Info:\n",
    "\n",
    "Attribute Information  \n",
    "1) age  \n",
    "2) sex  \n",
    "3) cp = chest pain type (4 values)  \n",
    "4) trestbps = resting blood pressure  \n",
    "5) chol = serum cholestoral in mg/dl  \n",
    "6) fbs = fasting blood sugar > 120 mg/dl  \n",
    "7) restecg = resting electrocardiographic results (values 0,1,2)  \n",
    "8) thalach = maximum heart rate achieved  \n",
    "9) exang = exercise induced angina  \n",
    "10) oldpeak = ST depression induced by exercise relative to rest  \n",
    "11) slope = the slope of the peak exercise ST segment  \n",
    "12) ca = number of major vessels (0-3) colored by flourosopy  \n",
    "13) thal: 0 = normal; 1 = fixed defect; 2 = reversable defect  \n",
    "14) target: 0= less chance of heart attack 1= more chance of heart attack  "
   ]
  },
  {
   "cell_type": "code",
   "execution_count": null,
   "metadata": {
    "id": "vb3hMVnnXuFp"
   },
   "outputs": [],
   "source": []
  },
  {
   "cell_type": "code",
   "execution_count": null,
   "metadata": {
    "id": "-qFyRT05XuFq"
   },
   "outputs": [],
   "source": [
    "# to check dataframe, use display()\n"
   ]
  },
  {
   "cell_type": "markdown",
   "metadata": {
    "id": "S2wkG8BBXuFq"
   },
   "source": [
    "## 3. Data Cleaning"
   ]
  },
  {
   "cell_type": "markdown",
   "metadata": {
    "id": "HzG9CJcrXuFq"
   },
   "source": [
    "There might be a possiblity that the data is missing its values. use \"print(df.isnull().sum))\" to check if the data is ready to be processed."
   ]
  },
  {
   "cell_type": "code",
   "execution_count": null,
   "metadata": {
    "id": "xS3aXosPXuFq"
   },
   "outputs": [],
   "source": []
  },
  {
   "cell_type": "markdown",
   "metadata": {
    "id": "9Zac--q0XuFr"
   },
   "source": [
    "## 4. Feature Selection\n",
    "Now that the data is good to go, we are ready to move on to the next step of the process. As there are 14 features in the dataset, we do not want to use all of these features for training our model, because not all of them are relevant. Instead, we want to choose those features that directly influence the result (that is, prices of houses) to train the model. For this, we can use the corr() function. The corr() function computes the pairwise correlation of columns:"
   ]
  },
  {
   "cell_type": "code",
   "execution_count": null,
   "metadata": {
    "id": "OdAiyr50XuFr"
   },
   "outputs": [],
   "source": [
    "# we choose variables this time."
   ]
  },
  {
   "cell_type": "code",
   "execution_count": null,
   "metadata": {
    "id": "vB2B2n71XuFr"
   },
   "outputs": [],
   "source": [
    "# #---get the top 3 features that has the highest correlation---\n",
    "#select the independent variables you chose inside of ' ' to see which variables has a strong correlation with age.  \n",
    "\n",
    "print(df.corr().abs().nlargest(3, 'age').index) # we put independent for you\n",
    "\n",
    "#---print the top 3 correlation values---\n",
    "print(df.corr().abs().nlargest(3, 'age').values[:,13]) # we put independent for you"
   ]
  },
  {
   "cell_type": "markdown",
   "metadata": {
    "id": "kbbcWRXZXuFr"
   },
   "source": [
    "## 5. Create the simple linear regression graph.\n",
    "hint: figure3.1 - Least squares fit"
   ]
  },
  {
   "cell_type": "markdown",
   "metadata": {},
   "source": [
    "sns.regplot(x-values, y-values, order= order of variable, ci=confidence interval, scatter_kws={'color':'r',size':9})"
   ]
  },
  {
   "cell_type": "code",
   "execution_count": null,
   "metadata": {
    "id": "jKdTZu90XuFs"
   },
   "outputs": [],
   "source": []
  },
  {
   "cell_type": "markdown",
   "metadata": {
    "id": "zm9s-dgYXuFs"
   },
   "source": [
    "## 6. Find Regression Coefficient and Intercept\n",
    "hint: figure 3.2  \n",
    "y-value will be a target value for prediction variable.\n",
    "In this notebook, set \"age\" as a prediction variable."
   ]
  },
  {
   "cell_type": "code",
   "execution_count": null,
   "metadata": {
    "id": "yrwtM_VeXuFs"
   },
   "outputs": [],
   "source": []
  },
  {
   "cell_type": "markdown",
   "metadata": {
    "id": "KJfD7JUHXuFs"
   },
   "source": [
    "## 7. Create Confidence Interval: Statsmodels\n",
    "hint: Confidence interval on page 67 & Table 3.1 & 3.2 - Statsmodels from pdf "
   ]
  },
  {
   "cell_type": "code",
   "execution_count": null,
   "metadata": {
    "id": "vaN6ZfMNXuFs"
   },
   "outputs": [],
   "source": []
  },
  {
   "cell_type": "markdown",
   "metadata": {
    "id": "opomQ9IUXuFs"
   },
   "source": [
    "# Multiple Linear Regression"
   ]
  },
  {
   "cell_type": "markdown",
   "metadata": {
    "id": "Zh-gjY36XuFt"
   },
   "source": [
    "## 8. Create statsmodels\n",
    "hint: Table 3.3"
   ]
  },
  {
   "cell_type": "code",
   "execution_count": null,
   "metadata": {
    "id": "MoWAfiV9XuFt"
   },
   "outputs": [],
   "source": []
  },
  {
   "cell_type": "markdown",
   "metadata": {
    "id": "gPdok9o3XuFt"
   },
   "source": [
    "## 9. Create multiple linear regression on 3D plot.\n",
    "hint: figure 3.5 -multiple lienear regression"
   ]
  },
  {
   "cell_type": "code",
   "execution_count": null,
   "metadata": {
    "id": "CnLXEdtgXuFt"
   },
   "outputs": [],
   "source": []
  },
  {
   "cell_type": "markdown",
   "metadata": {
    "id": "DMz50-5SXuFt"
   },
   "source": []
  }
 ],
 "metadata": {
  "colab": {
   "name": "Linear Regression LAB_student use .ipynb",
   "provenance": []
  },
  "kernelspec": {
   "display_name": "Python 3",
   "language": "python",
   "name": "python3"
  },
  "language_info": {
   "codemirror_mode": {
    "name": "ipython",
    "version": 3
   },
   "file_extension": ".py",
   "mimetype": "text/x-python",
   "name": "python",
   "nbconvert_exporter": "python",
   "pygments_lexer": "ipython3",
   "version": "3.8.3"
  }
 },
 "nbformat": 4,
 "nbformat_minor": 1
}
