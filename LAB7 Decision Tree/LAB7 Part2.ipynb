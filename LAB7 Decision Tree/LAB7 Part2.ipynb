{
 "cells": [
  {
   "cell_type": "markdown",
   "metadata": {},
   "source": [
    "### Will use Breast Cancer Wisconsin Datasets for decision trees"
   ]
  },
  {
   "cell_type": "markdown",
   "metadata": {},
   "source": [
    "### Task1: load datasets"
   ]
  },
  {
   "cell_type": "code",
   "execution_count": 1,
   "metadata": {},
   "outputs": [],
   "source": [
    "import pandas as pd \n",
    "import numpy as np"
   ]
  },
  {
   "cell_type": "code",
   "execution_count": 2,
   "metadata": {},
   "outputs": [],
   "source": [
    "from sklearn.datasets import load_breast_cancer\n",
    "cancer = load_breast_cancer()\n",
    "cancer_att = pd.DataFrame(data=cancer.data,columns=['radius_mean', 'texture_mean', 'perimeter_mean', 'area_mean',  'smoothness_mean', 'compactness_mean', 'concavity_mean', 'concave points_mean', 'symmetry_mean', 'fractal_dimension_mean', 'radius_se', 'texture_se', 'perimeter_se', 'area_se', 'smoothness_se', 'compactness_se', 'concavity_se', 'concave points_se', 'symmetry_se', 'fractal_dimension_se', 'radius_worst', 'texture_worst', 'perimeter_worst', 'area_worst', 'smoothness_worst', 'compactness_worst', 'concavity_worst', 'concave points_worst', 'symmetry_worst', 'fractal_dimension_worst'])\n",
    "cancer_categories= pd.DataFrame(data=cancer.target,columns=['diagnosis'])"
   ]
  },
  {
   "cell_type": "code",
   "execution_count": 3,
   "metadata": {},
   "outputs": [
    {
     "name": "stdout",
     "output_type": "stream",
     "text": [
      "The cancer dataset has 569 samples and 30 feature attributes.\n"
     ]
    }
   ],
   "source": [
    "print(\"The cancer dataset has {0[0]} samples and {0[1]} feature attributes.\".format(cancer_att.shape))\n"
   ]
  },
  {
   "cell_type": "code",
   "execution_count": 4,
   "metadata": {},
   "outputs": [
    {
     "name": "stdout",
     "output_type": "stream",
     "text": [
      "The cancer dataset has 569 diagnosis samples, among them 357 are benign and 212 are malignant.\n"
     ]
    }
   ],
   "source": [
    "cancer_categories_total = list(cancer_categories.shape)[0]\n",
    "cancer_categories_count = list(cancer_categories['diagnosis'].value_counts())\n",
    "\n",
    "print(\"The cancer dataset has {} diagnosis samples, among them {} are benign and {} are malignant.\".format(cancer_categories_total, \n",
    "                                                                                 cancer_categories_count[0], \n",
    "                                                                                 cancer_categories_count[1]))"
   ]
  },
  {
   "cell_type": "markdown",
   "metadata": {},
   "source": [
    "### Task2: Create Datasets"
   ]
  },
  {
   "cell_type": "code",
   "execution_count": 5,
   "metadata": {},
   "outputs": [],
   "source": [
    "from sklearn.utils import shuffle\n",
    "from sklearn.model_selection import train_test_split\n",
    "x,y = shuffle(cancer_att,cancer_categories)\n",
    "x_train, x_test, y_train, y_test=train_test_split(x,y,test_size=0.2, random_state=4)"
   ]
  },
  {
   "cell_type": "markdown",
   "metadata": {},
   "source": [
    "### Task3: (1) Use Decision Trees Model"
   ]
  },
  {
   "cell_type": "code",
   "execution_count": 6,
   "metadata": {},
   "outputs": [
    {
     "data": {
      "text/plain": [
       "DecisionTreeClassifier(criterion='entropy', max_depth=3, random_state=0)"
      ]
     },
     "execution_count": 6,
     "metadata": {},
     "output_type": "execute_result"
    }
   ],
   "source": [
    "from sklearn.tree import DecisionTreeClassifier;\n",
    "\n",
    "tree = DecisionTreeClassifier(criterion    =  'entropy',\n",
    "                              max_depth    =  3,\n",
    "                              random_state =  0 );\n",
    "tree.fit(x_train, y_train)"
   ]
  },
  {
   "cell_type": "code",
   "execution_count": 29,
   "metadata": {},
   "outputs": [
    {
     "data": {
      "text/plain": [
       "DecisionTreeClassifier()"
      ]
     },
     "execution_count": 29,
     "metadata": {},
     "output_type": "execute_result"
    }
   ],
   "source": [
    "from sklearn.tree import DecisionTreeClassifier\n",
    "classifier = DecisionTreeClassifier()\n",
    "classifier.fit(x_train, y_train)"
   ]
  },
  {
   "cell_type": "code",
   "execution_count": 31,
   "metadata": {},
   "outputs": [],
   "source": [
    "y_pred = classifier.predict(x_test)"
   ]
  },
  {
   "cell_type": "code",
   "execution_count": 32,
   "metadata": {},
   "outputs": [
    {
     "name": "stdout",
     "output_type": "stream",
     "text": [
      "[[46  0]\n",
      " [ 5 63]]\n",
      "              precision    recall  f1-score   support\n",
      "\n",
      "           0       0.90      1.00      0.95        46\n",
      "           1       1.00      0.93      0.96        68\n",
      "\n",
      "    accuracy                           0.96       114\n",
      "   macro avg       0.95      0.96      0.96       114\n",
      "weighted avg       0.96      0.96      0.96       114\n",
      "\n"
     ]
    }
   ],
   "source": [
    "from sklearn.metrics import classification_report, confusion_matrix\n",
    "print(confusion_matrix(y_test, y_pred))\n",
    "print(classification_report(y_test, y_pred))"
   ]
  },
  {
   "cell_type": "markdown",
   "metadata": {},
   "source": [
    "### Taks4: Create a decision tree graph"
   ]
  },
  {
   "cell_type": "code",
   "execution_count": 7,
   "metadata": {},
   "outputs": [
    {
     "data": {
      "text/plain": [
       "[Text(193.15384615384616, 190.26, 'worst radius <= 16.79\\nentropy = 0.947\\nsamples = 455\\nvalue = [166, 289]'),\n",
       " Text(103.01538461538462, 135.9, 'worst concave points <= 0.136\\nentropy = 0.396\\nsamples = 307\\nvalue = [24, 283]'),\n",
       " Text(51.50769230769231, 81.53999999999999, 'area error <= 38.605\\nentropy = 0.11\\nsamples = 274\\nvalue = [4, 270]'),\n",
       " Text(25.753846153846155, 27.180000000000007, 'entropy = 0.064\\nsamples = 263\\nvalue = [2, 261]'),\n",
       " Text(77.26153846153846, 27.180000000000007, 'entropy = 0.684\\nsamples = 11\\nvalue = [2, 9]'),\n",
       " Text(154.52307692307693, 81.53999999999999, 'mean texture <= 19.71\\nentropy = 0.967\\nsamples = 33\\nvalue = [20, 13]'),\n",
       " Text(128.76923076923077, 27.180000000000007, 'entropy = 0.934\\nsamples = 20\\nvalue = [7, 13]'),\n",
       " Text(180.27692307692308, 27.180000000000007, 'entropy = 0.0\\nsamples = 13\\nvalue = [13, 0]'),\n",
       " Text(283.2923076923077, 135.9, 'mean concavity <= 0.062\\nentropy = 0.245\\nsamples = 148\\nvalue = [142, 6]'),\n",
       " Text(257.53846153846155, 81.53999999999999, 'mean texture <= 19.545\\nentropy = 0.996\\nsamples = 13\\nvalue = [7, 6]'),\n",
       " Text(231.7846153846154, 27.180000000000007, 'entropy = 0.0\\nsamples = 6\\nvalue = [0, 6]'),\n",
       " Text(283.2923076923077, 27.180000000000007, 'entropy = 0.0\\nsamples = 7\\nvalue = [7, 0]'),\n",
       " Text(309.04615384615386, 81.53999999999999, 'entropy = 0.0\\nsamples = 135\\nvalue = [135, 0]')]"
      ]
     },
     "execution_count": 7,
     "metadata": {},
     "output_type": "execute_result"
    },
    {
     "data": {
      "image/png": "[encoded data removed]",
      "text/plain": [
       "<Figure size 432x288 with 1 Axes>"
      ]
     },
     "metadata": {
      "needs_background": "light"
     },
     "output_type": "display_data"
    }
   ],
   "source": [
    "from sklearn.tree import plot_tree;\n",
    "\n",
    "plot_tree(tree,\n",
    "          feature_names = cancer.feature_names,\n",
    "          fontsize      = 7 )"
   ]
  },
  {
   "cell_type": "code",
   "execution_count": 8,
   "metadata": {},
   "outputs": [
    {
     "name": "stdout",
     "output_type": "stream",
     "text": [
      "Train Set Accuracy :  0.9758241758241758\n",
      "Test Set Accuracy  :  0.9385964912280702\n"
     ]
    }
   ],
   "source": [
    "from sklearn.metrics import accuracy_score;\n",
    "y_pred_train = tree.predict(x_train);\n",
    "print(\"Train Set Accuracy : \", accuracy_score(y_train, y_pred_train))\n",
    "y_pred_test = tree.predict(x_test);\n",
    "print(\"Test Set Accuracy  : \", accuracy_score(y_test, y_pred_test))"
   ]
  },
  {
   "cell_type": "markdown",
   "metadata": {},
   "source": [
    "### Task3: (2) Use Random Forest Models"
   ]
  },
  {
   "cell_type": "code",
   "execution_count": 9,
   "metadata": {},
   "outputs": [
    {
     "name": "stdout",
     "output_type": "stream",
     "text": [
      "Tuning Hyper-Parameters for accuracy\n",
      "{'criterion': 'gini', 'min_samples_split': 2, 'n_estimators': 20}\n",
      "0.972\n",
      "Accuracy_score:  0.9473684210526315\n"
     ]
    },
    {
     "ename": "NameError",
     "evalue": "name 'classification_report' is not defined",
     "output_type": "error",
     "traceback": [
      "\u001b[0;31m---------------------------------------------------------------------------\u001b[0m",
      "\u001b[0;31mNameError\u001b[0m                                 Traceback (most recent call last)",
      "\u001b[0;32m<ipython-input-9-cc8561ddf94f>\u001b[0m in \u001b[0;36m<module>\u001b[0;34m\u001b[0m\n\u001b[1;32m     20\u001b[0m \u001b[0mprediction\u001b[0m\u001b[0;34m=\u001b[0m\u001b[0mgrid_rf\u001b[0m\u001b[0;34m.\u001b[0m\u001b[0mpredict\u001b[0m\u001b[0;34m(\u001b[0m\u001b[0mx_test\u001b[0m\u001b[0;34m)\u001b[0m\u001b[0;34m\u001b[0m\u001b[0;34m\u001b[0m\u001b[0m\n\u001b[1;32m     21\u001b[0m \u001b[0mprint\u001b[0m\u001b[0;34m(\u001b[0m\u001b[0;34m\"Accuracy_score: \"\u001b[0m\u001b[0;34m,\u001b[0m\u001b[0maccuracy_score\u001b[0m\u001b[0;34m(\u001b[0m\u001b[0my_test\u001b[0m\u001b[0;34m,\u001b[0m\u001b[0mprediction\u001b[0m\u001b[0;34m)\u001b[0m\u001b[0;34m)\u001b[0m\u001b[0;34m\u001b[0m\u001b[0;34m\u001b[0m\u001b[0m\n\u001b[0;32m---> 22\u001b[0;31m \u001b[0mprint\u001b[0m\u001b[0;34m(\u001b[0m\u001b[0mclassification_report\u001b[0m\u001b[0;34m(\u001b[0m\u001b[0my_test\u001b[0m\u001b[0;34m,\u001b[0m\u001b[0mprediction\u001b[0m\u001b[0;34m)\u001b[0m\u001b[0;34m)\u001b[0m\u001b[0;34m\u001b[0m\u001b[0;34m\u001b[0m\u001b[0m\n\u001b[0m",
      "\u001b[0;31mNameError\u001b[0m: name 'classification_report' is not defined"
     ]
    }
   ],
   "source": [
    "from sklearn.ensemble import RandomForestClassifier\n",
    "from sklearn.model_selection import RandomizedSearchCV\n",
    "from sklearn.model_selection import GridSearchCV\n",
    "from sklearn.model_selection import train_test_split\n",
    "import warnings \n",
    "warnings.filterwarnings('ignore')\n",
    "import numpy as np\n",
    "\n",
    "clf_rf=RandomForestClassifier()\n",
    "param_grid = {\"n_estimators\": np.arange(10,100,5),\n",
    "              \"min_samples_split\": np.arange(2,100,2),\n",
    "              \"criterion\": [\"gini\", \"entropy\"]\n",
    "              }\n",
    "grid_rf=GridSearchCV(clf_rf,param_grid,cv=10,scoring='accuracy')\n",
    "print(\"Tuning Hyper-Parameters for accuracy\")\n",
    "grid_rf.fit(x_train,y_train)\n",
    "print(grid_rf.best_params_)\n",
    "print(np.round(grid_rf.best_score_,3))"
   ]
  },
  {
   "cell_type": "code",
   "execution_count": 14,
   "metadata": {},
   "outputs": [
    {
     "name": "stdout",
     "output_type": "stream",
     "text": [
      "Accuracy_score:  0.9473684210526315\n",
      "              precision    recall  f1-score   support\n",
      "\n",
      "           0       0.90      0.98      0.94        46\n",
      "           1       0.98      0.93      0.95        68\n",
      "\n",
      "    accuracy                           0.95       114\n",
      "   macro avg       0.94      0.95      0.95       114\n",
      "weighted avg       0.95      0.95      0.95       114\n",
      "\n"
     ]
    }
   ],
   "source": [
    "from sklearn.metrics import accuracy_score,classification_report\n",
    "\n",
    "prediction=grid_rf.predict(x_test)\n",
    "print(\"Accuracy_score: \",accuracy_score(y_test,prediction))\n",
    "print(classification_report(y_test,prediction))"
   ]
  },
  {
   "cell_type": "markdown",
   "metadata": {},
   "source": [
    "### Task3: (3) Use K Nearest Neighbors"
   ]
  },
  {
   "cell_type": "code",
   "execution_count": 24,
   "metadata": {},
   "outputs": [],
   "source": [
    "# Import module for KNN\n",
    "from sklearn.neighbors import KNeighborsClassifier\n",
    "knn = KNeighborsClassifier(n_neighbors=3)\n",
    "\n",
    "# Fit (i.e. traing) the model\n",
    "knn.fit(x_train, y_train)\n",
    "\n",
    "# Use the .predict() method to make predictions from the X_test subset\n",
    "pred = knn.predict(x_test)"
   ]
  },
  {
   "cell_type": "code",
   "execution_count": 25,
   "metadata": {},
   "outputs": [],
   "source": [
    "# Import classification report and confusion matrix to evaluate predictions\n",
    "from sklearn.metrics import classification_report, confusion_matrix"
   ]
  },
  {
   "cell_type": "code",
   "execution_count": 26,
   "metadata": {},
   "outputs": [
    {
     "name": "stdout",
     "output_type": "stream",
     "text": [
      "              precision    recall  f1-score   support\n",
      "\n",
      "           0       0.89      0.91      0.90        46\n",
      "           1       0.94      0.93      0.93        68\n",
      "\n",
      "    accuracy                           0.92       114\n",
      "   macro avg       0.92      0.92      0.92       114\n",
      "weighted avg       0.92      0.92      0.92       114\n",
      "\n"
     ]
    }
   ],
   "source": [
    "# Print out classification report and confusion matrix\n",
    "print(classification_report(y_test, pred))"
   ]
  },
  {
   "cell_type": "markdown",
   "metadata": {},
   "source": [
    "### Task5: Report the results \n",
    "have completed and included in each models' sections"
   ]
  },
  {
   "cell_type": "markdown",
   "metadata": {},
   "source": [
    "### Task6: Final Report"
   ]
  },
  {
   "cell_type": "markdown",
   "metadata": {},
   "source": [
    "Accuracy: Decision Tree > Random Forest > K-Nearest Neighbors"
   ]
  },
  {
   "cell_type": "code",
   "execution_count": null,
   "metadata": {},
   "outputs": [],
   "source": []
  }
 ],
 "metadata": {
  "kernelspec": {
   "display_name": "Python 3",
   "language": "python",
   "name": "python3"
  },
  "language_info": {
   "codemirror_mode": {
    "name": "ipython",
    "version": 3
   },
   "file_extension": ".py",
   "mimetype": "text/x-python",
   "name": "python",
   "nbconvert_exporter": "python",
   "pygments_lexer": "ipython3",
   "version": "3.8.3"
  }
 },
 "nbformat": 4,
 "nbformat_minor": 4
}
