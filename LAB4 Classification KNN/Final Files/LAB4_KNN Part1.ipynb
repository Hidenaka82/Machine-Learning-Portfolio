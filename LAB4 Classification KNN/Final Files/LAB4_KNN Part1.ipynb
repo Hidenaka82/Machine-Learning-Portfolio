{
 "cells": [
  {
   "cell_type": "markdown",
   "metadata": {},
   "source": [
    "# Supervised Learning Classification Using K-Nearest Neighbors (KNN)"
   ]
  },
  {
   "cell_type": "markdown",
   "metadata": {},
   "source": [
    "### What is K-Nearest Neighbors?\n",
    "\n",
    "KNN is another supervised machine learning algorithm. It is a relatively simple algorithm compared to other algorithms. It works by comparing the query instances distance to the other training samples and selecting the K-neighbor classes to be the prediction of the quere instance.\n",
    "\n",
    "### Implementing KNN in Python\n",
    "To implemenent KNN from scratch using Python, lets import the modules that we'll need."
   ]
  },
  {
   "cell_type": "code",
   "execution_count": 1,
   "metadata": {},
   "outputs": [],
   "source": [
    "import pandas as pd\n",
    "import numpy as np\n",
    "import operator\n",
    "import seaborn as sns\n",
    "import matplotlib.pyplot as plt\n",
    "import matplotlib.patches as mpatches\n"
   ]
  },
  {
   "cell_type": "code",
   "execution_count": 2,
   "metadata": {},
   "outputs": [
    {
     "data": {
      "text/html": [
       "<div>\n",
       "<style scoped>\n",
       "    .dataframe tbody tr th:only-of-type {\n",
       "        vertical-align: middle;\n",
       "    }\n",
       "\n",
       "    .dataframe tbody tr th {\n",
       "        vertical-align: top;\n",
       "    }\n",
       "\n",
       "    .dataframe thead th {\n",
       "        text-align: right;\n",
       "    }\n",
       "</style>\n",
       "<table border=\"1\" class=\"dataframe\">\n",
       "  <thead>\n",
       "    <tr style=\"text-align: right;\">\n",
       "      <th></th>\n",
       "      <th>x</th>\n",
       "      <th>y</th>\n",
       "      <th>c</th>\n",
       "    </tr>\n",
       "  </thead>\n",
       "  <tbody>\n",
       "    <tr>\n",
       "      <th>0</th>\n",
       "      <td>1</td>\n",
       "      <td>1</td>\n",
       "      <td>A</td>\n",
       "    </tr>\n",
       "    <tr>\n",
       "      <th>1</th>\n",
       "      <td>2</td>\n",
       "      <td>2</td>\n",
       "      <td>A</td>\n",
       "    </tr>\n",
       "    <tr>\n",
       "      <th>2</th>\n",
       "      <td>4</td>\n",
       "      <td>3</td>\n",
       "      <td>B</td>\n",
       "    </tr>\n",
       "    <tr>\n",
       "      <th>3</th>\n",
       "      <td>3</td>\n",
       "      <td>3</td>\n",
       "      <td>A</td>\n",
       "    </tr>\n",
       "    <tr>\n",
       "      <th>4</th>\n",
       "      <td>3</td>\n",
       "      <td>5</td>\n",
       "      <td>B</td>\n",
       "    </tr>\n",
       "    <tr>\n",
       "      <th>5</th>\n",
       "      <td>5</td>\n",
       "      <td>6</td>\n",
       "      <td>B</td>\n",
       "    </tr>\n",
       "    <tr>\n",
       "      <th>6</th>\n",
       "      <td>5</td>\n",
       "      <td>4</td>\n",
       "      <td>B</td>\n",
       "    </tr>\n",
       "  </tbody>\n",
       "</table>\n",
       "</div>"
      ],
      "text/plain": [
       "   x  y  c\n",
       "0  1  1  A\n",
       "1  2  2  A\n",
       "2  4  3  B\n",
       "3  3  3  A\n",
       "4  3  5  B\n",
       "5  5  6  B\n",
       "6  5  4  B"
      ]
     },
     "execution_count": 2,
     "metadata": {},
     "output_type": "execute_result"
    }
   ],
   "source": [
    "data=pd.read_csv(\"KNN.csv\")\n",
    "data"
   ]
  },
  {
   "cell_type": "code",
   "execution_count": 3,
   "metadata": {},
   "outputs": [
    {
     "data": {
      "image/png": "[encoded data removed]",
      "text/plain": [
       "<Figure size 402.875x360 with 1 Axes>"
      ]
     },
     "metadata": {
      "needs_background": "light"
     },
     "output_type": "display_data"
    }
   ],
   "source": [
    "sns.lmplot('x','y',data=data,hue='c',palette='Set1',fit_reg=False,scatter_kws={\"s\":70})\n",
    "plt.show()"
   ]
  },
  {
   "cell_type": "markdown",
   "metadata": {},
   "source": [
    "### Calculating the Distance Between the Points\n",
    "In order to find the nearest neighbor of a given point, you need to calculate the Euclidean distance between two points.\n",
    "\n",
    "Given two points, $p=(p_{1},p_{2},...p_{n})$ and $q=(q_{1},q_{2},...q_{n})$ the distance between $p$ and $q$ is given by the following formula: $$\\sqrt{(q_{1}-p_{1})^{2}+(q_{2}-p_{2})^{2}+(q_{n}-p_{n})^{2}}$$ based on the formula, you can now define a function named euclidean_distance() as follows:"
   ]
  },
  {
   "cell_type": "code",
   "execution_count": 4,
   "metadata": {},
   "outputs": [],
   "source": [
    "#--- To calculate the distance between two points---#\n",
    "def euclidean_distance(pt1,pt2,dimension):\n",
    "    distance=0\n",
    "    for x in range(dimension):\n",
    "        distance += np.square(pt1[x]-pt2[x])\n",
    "    return np.sqrt(distance)"
   ]
  },
  {
   "cell_type": "markdown",
   "metadata": {},
   "source": [
    "The euclidean_distance() function can find the distance between two points in any dimension. In this example, the points we are dealing with are in 2D.\n",
    "\n",
    "#### Implementing KNN\n",
    "Next define a function named knn(), whic takes in the training points, the test point, and the value of k:"
   ]
  },
  {
   "cell_type": "code",
   "execution_count": 5,
   "metadata": {},
   "outputs": [],
   "source": [
    "#---our own KNN model---#\n",
    "def knn(training_points,test_point,k):\n",
    "    distances={}\n",
    "    \n",
    "    #---the number of axes we are dealing with---#\n",
    "    dimension = test_point.shape[1]\n",
    "    \n",
    "    #---calculating euclidean distance between each point\n",
    "    # in the training data and test data\n",
    "    for x in range(len(training_points)):\n",
    "        dist= euclidean_distance(test_point,training_points.iloc[x],dimension)\n",
    "        \n",
    "        #--- record the distance for each training points---# \n",
    "        distances[x]=dist[0]\n",
    "        \n",
    "    #---sort the distances---#\n",
    "    sorted_d=sorted(distances.items(),key=operator.itemgetter(1))\n",
    "    \n",
    "    #---to store the neighbors---#\n",
    "    neighbors=[]\n",
    "    \n",
    "    #---extract the top k neighbors---#\n",
    "    for x in range(k):\n",
    "        neighbors.append(sorted_d[x][0])\n",
    "    \n",
    "    #---for each neighbor found, find its class---#\n",
    "    class_counter={}\n",
    "    for x in range(len(neighbors)):\n",
    "        #---find out the class for that particular point---#\n",
    "        cls=training_points.iloc[neighbors[x]][-1]\n",
    "        \n",
    "        if cls in class_counter:\n",
    "            class_counter[cls] += 1\n",
    "        else:\n",
    "            class_counter[cls]=1\n",
    "            \n",
    "        #---sort the class_counter in descending order---#\n",
    "        sorted_counter=sorted(class_counter.items(), key=operator.itemgetter(1),reverse=True)\n",
    "        \n",
    "    #---return the class with the most count, as well as the neighbors found---#\n",
    "    return(sorted_counter[0][0],neighbors)"
   ]
  },
  {
   "cell_type": "markdown",
   "metadata": {},
   "source": [
    "The function returns the class to which the test point belongs, as well as the indeces of all nearest k neighbors\n",
    "\n",
    "#### Making Predictions\n",
    "With the knn() function defined, you can now make some predictions:"
   ]
  },
  {
   "cell_type": "code",
   "execution_count": 6,
   "metadata": {},
   "outputs": [
    {
     "name": "stdout",
     "output_type": "stream",
     "text": [
      "Predicted Class:B\n"
     ]
    }
   ],
   "source": [
    "#---Test Point---#\n",
    "test_set=[[3,3.9]]\n",
    "test=pd.DataFrame(test_set)\n",
    "cls,neighbors=knn(data,test,5)\n",
    "print(\"Predicted Class:\" + cls)"
   ]
  },
  {
   "cell_type": "markdown",
   "metadata": {},
   "source": [
    "### Visualizing Different Values of K\n",
    "It is useful to be able to visualize the ffect of applying various values of k. The following code snippet draws a series of concentric circles around the test point based on the values of k, which range from 7 to 1, with intervals of -2:"
   ]
  },
  {
   "cell_type": "code",
   "execution_count": 7,
   "metadata": {},
   "outputs": [
    {
     "name": "stdout",
     "output_type": "stream",
     "text": [
      "==============\n",
      "k= 7\n",
      "Class B\n",
      "Neighbors\n",
      "   x  y  c\n",
      "3  3  3  A\n",
      "4  3  5  B\n",
      "2  4  3  B\n",
      "6  5  4  B\n",
      "1  2  2  A\n",
      "5  5  6  B\n",
      "0  1  1  A\n",
      "==============\n",
      "k= 5\n",
      "Class B\n",
      "Neighbors\n",
      "   x  y  c\n",
      "3  3  3  A\n",
      "4  3  5  B\n",
      "2  4  3  B\n",
      "6  5  4  B\n",
      "1  2  2  A\n",
      "==============\n",
      "k= 3\n",
      "Class B\n",
      "Neighbors\n",
      "   x  y  c\n",
      "3  3  3  A\n",
      "4  3  5  B\n",
      "2  4  3  B\n",
      "==============\n",
      "k= 1\n",
      "Class A\n",
      "Neighbors\n",
      "   x  y  c\n",
      "3  3  3  A\n"
     ]
    },
    {
     "data": {
      "image/png": "[encoded data removed]",
      "text/plain": [
       "<Figure size 432x288 with 1 Axes>"
      ]
     },
     "metadata": {
      "needs_background": "light"
     },
     "output_type": "display_data"
    }
   ],
   "source": [
    "#---gnerate the color map for the scatter plot--#\n",
    "#---if colum 'c' is A, then use Red, else use Blue---#\n",
    "\n",
    "\n",
    "colors=['r' if i== 'A' else 'b' for i in data['c']]\n",
    "ax=data.plot(kind='scatter',x='x',y='y',c=colors)\n",
    "plt.xlim(0,7)\n",
    "plt.ylim(0,7)\n",
    "\n",
    "#---plot the test point---#\n",
    "plt.plot(test_set[0][0],test_set[0][1],\"yo\",markersize='9')\n",
    "\n",
    "for k in range(7,0,-2):\n",
    "    cls,neighbors=knn(data,test,k)\n",
    "    print(\"==============\")\n",
    "    print(\"k=\",k)\n",
    "    print(\"Class\",cls)\n",
    "    print(\"Neighbors\")\n",
    "    print(data.iloc[neighbors])\n",
    "    \n",
    "    furthest_point=data.iloc[neighbors].tail(1)\n",
    "    \n",
    "    #---draw a circle connecting the test point and the furthest point---#\n",
    "    radius=euclidean_distance(test,furthest_point.iloc[0],2)\n",
    "    \n",
    "    #---display the circle in red if classification is A, else display circle in blue---#\n",
    "    c='r' if cls=='A' else 'b'\n",
    "    circle=plt.Circle((test_set[0][0], test_set[0][1]),radius,color=c,alpha=0.3)\n",
    "    ax.add_patch(circle)\n",
    "plt.gca().set_aspect('equal',adjustable='box')\n",
    "plt.show()"
   ]
  },
  {
   "cell_type": "markdown",
   "metadata": {},
   "source": [
    "The figure above shows a series of circles centered around the test point, with varying values of k. The innermost circle is for k=1, with the next outer ring for k=3, and so on. As you can see if k=1, circle is red, meaning that the yellow point has been classified as class A. If the circle is blue, this means that the yellow point has been classified as B. This is evident in the outer three circles. \n",
    "\n",
    "## Using Scikit-Learns KNeighborsClassifier Class for KNN\n",
    "\n",
    "Now that you see how KNN works and how it cane be implemented manually in Python, lets use the implementation provided by Scikit-learn.\n",
    "The following code snippet loads the Iris dataset and plots it out using scatter plot:"
   ]
  },
  {
   "cell_type": "code",
   "execution_count": 8,
   "metadata": {},
   "outputs": [
    {
     "name": "stdout",
     "output_type": "stream",
     "text": [
      "[[5.1 3.5]\n",
      " [4.9 3. ]\n",
      " [4.7 3.2]\n",
      " [4.6 3.1]\n",
      " [5.  3.6]\n",
      " [5.4 3.9]\n",
      " [4.6 3.4]\n",
      " [5.  3.4]\n",
      " [4.4 2.9]\n",
      " [4.9 3.1]\n",
      " [5.4 3.7]\n",
      " [4.8 3.4]\n",
      " [4.8 3. ]\n",
      " [4.3 3. ]\n",
      " [5.8 4. ]\n",
      " [5.7 4.4]\n",
      " [5.4 3.9]\n",
      " [5.1 3.5]\n",
      " [5.7 3.8]\n",
      " [5.1 3.8]\n",
      " [5.4 3.4]\n",
      " [5.1 3.7]\n",
      " [4.6 3.6]\n",
      " [5.1 3.3]\n",
      " [4.8 3.4]\n",
      " [5.  3. ]\n",
      " [5.  3.4]\n",
      " [5.2 3.5]\n",
      " [5.2 3.4]\n",
      " [4.7 3.2]\n",
      " [4.8 3.1]\n",
      " [5.4 3.4]\n",
      " [5.2 4.1]\n",
      " [5.5 4.2]\n",
      " [4.9 3.1]\n",
      " [5.  3.2]\n",
      " [5.5 3.5]\n",
      " [4.9 3.6]\n",
      " [4.4 3. ]\n",
      " [5.1 3.4]\n",
      " [5.  3.5]\n",
      " [4.5 2.3]\n",
      " [4.4 3.2]\n",
      " [5.  3.5]\n",
      " [5.1 3.8]\n",
      " [4.8 3. ]\n",
      " [5.1 3.8]\n",
      " [4.6 3.2]\n",
      " [5.3 3.7]\n",
      " [5.  3.3]\n",
      " [7.  3.2]\n",
      " [6.4 3.2]\n",
      " [6.9 3.1]\n",
      " [5.5 2.3]\n",
      " [6.5 2.8]\n",
      " [5.7 2.8]\n",
      " [6.3 3.3]\n",
      " [4.9 2.4]\n",
      " [6.6 2.9]\n",
      " [5.2 2.7]\n",
      " [5.  2. ]\n",
      " [5.9 3. ]\n",
      " [6.  2.2]\n",
      " [6.1 2.9]\n",
      " [5.6 2.9]\n",
      " [6.7 3.1]\n",
      " [5.6 3. ]\n",
      " [5.8 2.7]\n",
      " [6.2 2.2]\n",
      " [5.6 2.5]\n",
      " [5.9 3.2]\n",
      " [6.1 2.8]\n",
      " [6.3 2.5]\n",
      " [6.1 2.8]\n",
      " [6.4 2.9]\n",
      " [6.6 3. ]\n",
      " [6.8 2.8]\n",
      " [6.7 3. ]\n",
      " [6.  2.9]\n",
      " [5.7 2.6]\n",
      " [5.5 2.4]\n",
      " [5.5 2.4]\n",
      " [5.8 2.7]\n",
      " [6.  2.7]\n",
      " [5.4 3. ]\n",
      " [6.  3.4]\n",
      " [6.7 3.1]\n",
      " [6.3 2.3]\n",
      " [5.6 3. ]\n",
      " [5.5 2.5]\n",
      " [5.5 2.6]\n",
      " [6.1 3. ]\n",
      " [5.8 2.6]\n",
      " [5.  2.3]\n",
      " [5.6 2.7]\n",
      " [5.7 3. ]\n",
      " [5.7 2.9]\n",
      " [6.2 2.9]\n",
      " [5.1 2.5]\n",
      " [5.7 2.8]\n",
      " [6.3 3.3]\n",
      " [5.8 2.7]\n",
      " [7.1 3. ]\n",
      " [6.3 2.9]\n",
      " [6.5 3. ]\n",
      " [7.6 3. ]\n",
      " [4.9 2.5]\n",
      " [7.3 2.9]\n",
      " [6.7 2.5]\n",
      " [7.2 3.6]\n",
      " [6.5 3.2]\n",
      " [6.4 2.7]\n",
      " [6.8 3. ]\n",
      " [5.7 2.5]\n",
      " [5.8 2.8]\n",
      " [6.4 3.2]\n",
      " [6.5 3. ]\n",
      " [7.7 3.8]\n",
      " [7.7 2.6]\n",
      " [6.  2.2]\n",
      " [6.9 3.2]\n",
      " [5.6 2.8]\n",
      " [7.7 2.8]\n",
      " [6.3 2.7]\n",
      " [6.7 3.3]\n",
      " [7.2 3.2]\n",
      " [6.2 2.8]\n",
      " [6.1 3. ]\n",
      " [6.4 2.8]\n",
      " [7.2 3. ]\n",
      " [7.4 2.8]\n",
      " [7.9 3.8]\n",
      " [6.4 2.8]\n",
      " [6.3 2.8]\n",
      " [6.1 2.6]\n",
      " [7.7 3. ]\n",
      " [6.3 3.4]\n",
      " [6.4 3.1]\n",
      " [6.  3. ]\n",
      " [6.9 3.1]\n",
      " [6.7 3.1]\n",
      " [6.9 3.1]\n",
      " [5.8 2.7]\n",
      " [6.8 3.2]\n",
      " [6.7 3.3]\n",
      " [6.7 3. ]\n",
      " [6.3 2.5]\n",
      " [6.5 3. ]\n",
      " [6.2 3.4]\n",
      " [5.9 3. ]]\n",
      "[0 0 0 0 0 0 0 0 0 0 0 0 0 0 0 0 0 0 0 0 0 0 0 0 0 0 0 0 0 0 0 0 0 0 0 0 0\n",
      " 0 0 0 0 0 0 0 0 0 0 0 0 0 1 1 1 1 1 1 1 1 1 1 1 1 1 1 1 1 1 1 1 1 1 1 1 1\n",
      " 1 1 1 1 1 1 1 1 1 1 1 1 1 1 1 1 1 1 1 1 1 1 1 1 1 1 2 2 2 2 2 2 2 2 2 2 2\n",
      " 2 2 2 2 2 2 2 2 2 2 2 2 2 2 2 2 2 2 2 2 2 2 2 2 2 2 2 2 2 2 2 2 2 2 2 2 2\n",
      " 2 2]\n"
     ]
    },
    {
     "data": {
      "image/png": "[encoded data removed]",
      "text/plain": [
       "<Figure size 432x288 with 1 Axes>"
      ]
     },
     "metadata": {
      "needs_background": "light"
     },
     "output_type": "display_data"
    }
   ],
   "source": [
    "%matplotlib inline\n",
    "from sklearn import svm, datasets\n",
    "\n",
    "iris=datasets.load_iris()\n",
    "\n",
    "X=iris.data[:,:2] #take the first two features\n",
    "y=iris.target\n",
    "\n",
    "print(X)\n",
    "print(iris.target)\n",
    "\n",
    "#---plot the points---#\n",
    "colors=['red','green','blue']\n",
    "for color, i, target in zip(colors,[0,1,2],iris.target_names):\n",
    "    plt.scatter(X[y==i,0],X[y==i,1],color=color,label=target)\n",
    "\n",
    "plt.xlabel('Sepal length')\n",
    "plt.ylabel('Sepal width')\n",
    "plt.legend(loc='best', shadow=False, scatterpoints=1)\n",
    "\n",
    "plt.title('Scatter plot of Sepal width against Sepal length')\n",
    "plt.show()"
   ]
  },
  {
   "cell_type": "code",
   "execution_count": 9,
   "metadata": {},
   "outputs": [
    {
     "data": {
      "text/plain": [
       "array(['setosa', 'versicolor', 'virginica'], dtype='<U10')"
      ]
     },
     "metadata": {},
     "output_type": "display_data"
    }
   ],
   "source": [
    "display(iris.target_names)"
   ]
  },
  {
   "cell_type": "markdown",
   "metadata": {},
   "source": [
    "### Exploring Different Values of K\n",
    "We can now use Scikit-learns KNeighborsClassifier class to help us train a model on Iris dataset using KNN. For a start, lets use a k of 1:"
   ]
  },
  {
   "cell_type": "code",
   "execution_count": 10,
   "metadata": {},
   "outputs": [
    {
     "name": "stdout",
     "output_type": "stream",
     "text": [
      "(array([0, 1, 2]), array([50, 51, 49]))\n"
     ]
    },
    {
     "data": {
      "image/png": "[encoded data removed]",
      "text/plain": [
       "<Figure size 432x288 with 1 Axes>"
      ]
     },
     "metadata": {
      "needs_background": "light"
     },
     "output_type": "display_data"
    }
   ],
   "source": [
    "from sklearn.neighbors import KNeighborsClassifier\n",
    "\n",
    "k=1\n",
    "#---instantiate learning model---#\n",
    "knn=KNeighborsClassifier(n_neighbors=k)\n",
    "\n",
    "#---fitting the model---#\n",
    "knn.fit(X,y)\n",
    "\n",
    "#---min and max for the first feature---#\n",
    "x_min, x_max=X[:,0].min()-1,X[:,0].max() + 1\n",
    "\n",
    "#---min and max for the second feature---#\n",
    "y_min, y_max=X[:,1].min()-1, X[:,1].max() + 1\n",
    "\n",
    "#---step size in mesh---#\n",
    "h=(x_max/x_min)/100\n",
    "\n",
    "#---make predictions for each of the points in xx,yy---#\n",
    "xx,yy=np.meshgrid(np.arange(x_min,x_max,h),\n",
    "                  np.arange(y_min,y_max,h))\n",
    "\n",
    "Z=knn.predict(np.c_[xx.ravel(),yy.ravel()])\n",
    "\n",
    "#---draw teh result using a color plot---#\n",
    "Z=Z.reshape(xx.shape)\n",
    "plt.contourf(xx,yy,Z,cmap=plt.cm.Accent,alpha=0.8)\n",
    "\n",
    "#---plot the training points---#\n",
    "colors=['red','green','blue']\n",
    "for color,i,target in zip(colors,[0,1,2],iris.target_names):\n",
    "    plt.scatter(X[y==i,0],X[y==i,1],color=color,label=target)\n",
    "\n",
    "plt.xlabel('Sepal length')\n",
    "plt.ylabel('Sepal width')\n",
    "plt.title(f'KNN (k={k})')\n",
    "plt.legend(loc='best',shadow=False,scatterpoints=1)\n",
    "\n",
    "predictions=knn.predict(X)\n",
    "\n",
    "#---classifications based on predictions---#\n",
    "print(np.unique(predictions,return_counts=True))\n"
   ]
  },
  {
   "cell_type": "code",
   "execution_count": 11,
   "metadata": {},
   "outputs": [
    {
     "data": {
      "text/plain": [
       "3.3"
      ]
     },
     "metadata": {},
     "output_type": "display_data"
    },
    {
     "data": {
      "text/plain": [
       "8.9"
      ]
     },
     "metadata": {},
     "output_type": "display_data"
    },
    {
     "data": {
      "text/plain": [
       "1.0"
      ]
     },
     "metadata": {},
     "output_type": "display_data"
    },
    {
     "data": {
      "text/plain": [
       "5.4"
      ]
     },
     "metadata": {},
     "output_type": "display_data"
    }
   ],
   "source": [
    "display(x_min)\n",
    "display(x_max)\n",
    "display(y_min)\n",
    "display(y_max)"
   ]
  },
  {
   "cell_type": "markdown",
   "metadata": {},
   "source": [
    "The preceding code meshgrid (a rectangular grid of values) of points scattered across the x- and y-axes. Each point is then sued for prediction, and the result is drawn using a color plot. In this figure, it shows the calssification boundary using a k of 1. Notice that for k=1, you perform your prediction based solely on a single sample-your nearest neighbor. This makes your prediction very sensitive to all sorts of distortions, such as outliers, mislabeling, and so on. In general, setting k=1 usually leads to overfitting and as a result your predictions are not very accurate.\n",
    "\n",
    "For KNN, setting k to a higher value tends to make your prediction more robust against noise in your data. Using the same code snippet lets vary the values of k. "
   ]
  },
  {
   "cell_type": "code",
   "execution_count": 12,
   "metadata": {},
   "outputs": [
    {
     "name": "stdout",
     "output_type": "stream",
     "text": [
      "(array([0, 1, 2]), array([50, 44, 56]))\n"
     ]
    },
    {
     "data": {
      "image/png": "[encoded data removed]",
      "text/plain": [
       "<Figure size 432x288 with 1 Axes>"
      ]
     },
     "metadata": {
      "needs_background": "light"
     },
     "output_type": "display_data"
    }
   ],
   "source": [
    "k=3\n",
    "#---instantiate learning model---#\n",
    "knn=KNeighborsClassifier(n_neighbors=k)\n",
    "\n",
    "#---fitting the model---#\n",
    "knn.fit(X,y)\n",
    "\n",
    "#---min and max for the first feature---#\n",
    "x_min, x_max=X[:,0].min()-1,X[:,0].max() + 1\n",
    "\n",
    "#---min and max for the second feature---#\n",
    "y_min, y_max=X[:,1].min()-1, X[:,1].max() + 1\n",
    "\n",
    "#---step size in mesh---#\n",
    "h=(x_max/x_min)/100\n",
    "\n",
    "#---make predictions for each of the points in xx,yy---#\n",
    "xx,yy=np.meshgrid(np.arange(x_min,x_max,h),\n",
    "                  np.arange(y_min,y_max,h))\n",
    "\n",
    "Z=knn.predict(np.c_[xx.ravel(),yy.ravel()])\n",
    "\n",
    "#---draw teh result using a color plot---#\n",
    "Z=Z.reshape(xx.shape)\n",
    "plt.contourf(xx,yy,Z,cmap=plt.cm.Accent,alpha=0.8)\n",
    "\n",
    "#---plot the training points---#\n",
    "colors=['red','green','blue']\n",
    "for color,i,target in zip(colors,[0,1,2],iris.target_names):\n",
    "    plt.scatter(X[y==i,0],X[y==i,1],color=color,label=target)\n",
    "\n",
    "plt.xlabel('Sepal length')\n",
    "plt.ylabel('Sepal width')\n",
    "plt.title(f'KNN (k={k})')\n",
    "plt.legend(loc='best',shadow=False,scatterpoints=1)\n",
    "\n",
    "predictions=knn.predict(X)\n",
    "\n",
    "#---classifications based on predictions---#\n",
    "print(np.unique(predictions,return_counts=True))\n"
   ]
  },
  {
   "cell_type": "code",
   "execution_count": 13,
   "metadata": {},
   "outputs": [
    {
     "name": "stdout",
     "output_type": "stream",
     "text": [
      "(array([0, 1, 2]), array([51, 46, 53]))\n"
     ]
    },
    {
     "data": {
      "image/png": "[encoded data removed]",
      "text/plain": [
       "<Figure size 432x288 with 1 Axes>"
      ]
     },
     "metadata": {
      "needs_background": "light"
     },
     "output_type": "display_data"
    }
   ],
   "source": [
    "k=13\n",
    "#---instantiate learning model---#\n",
    "knn=KNeighborsClassifier(n_neighbors=k)\n",
    "\n",
    "#---fitting the model---#\n",
    "knn.fit(X,y)\n",
    "\n",
    "#---min and max for the first feature---#\n",
    "x_min, x_max=X[:,0].min()-1,X[:,0].max() + 1\n",
    "\n",
    "#---min and max for the second feature---#\n",
    "y_min, y_max=X[:,1].min()-1, X[:,1].max() + 1\n",
    "\n",
    "#---step size in mesh---#\n",
    "h=(x_max/x_min)/100\n",
    "\n",
    "#---make predictions for each of the points in xx,yy---#\n",
    "xx,yy=np.meshgrid(np.arange(x_min,x_max,h),\n",
    "                  np.arange(y_min,y_max,h))\n",
    "\n",
    "Z=knn.predict(np.c_[xx.ravel(),yy.ravel()])\n",
    "\n",
    "#---draw teh result using a color plot---#\n",
    "Z=Z.reshape(xx.shape)\n",
    "plt.contourf(xx,yy,Z,cmap=plt.cm.Accent,alpha=0.8)\n",
    "\n",
    "#---plot the training points---#\n",
    "colors=['red','green','blue']\n",
    "for color,i,target in zip(colors,[0,1,2],iris.target_names):\n",
    "    plt.scatter(X[y==i,0],X[y==i,1],color=color,label=target)\n",
    "\n",
    "plt.xlabel('Sepal length')\n",
    "plt.ylabel('Sepal width')\n",
    "plt.title(f'KNN (k={k})')\n",
    "plt.legend(loc='best',shadow=False,scatterpoints=1)\n",
    "\n",
    "predictions=knn.predict(X)\n",
    "\n",
    "#---classifications based on predictions---#\n",
    "print(np.unique(predictions,return_counts=True))\n",
    "\n"
   ]
  },
  {
   "cell_type": "code",
   "execution_count": 14,
   "metadata": {},
   "outputs": [
    {
     "name": "stdout",
     "output_type": "stream",
     "text": [
      "(array([0, 1, 2]), array([51, 49, 50]))\n"
     ]
    },
    {
     "data": {
      "image/png": "[encoded data removed]",
      "text/plain": [
       "<Figure size 432x288 with 1 Axes>"
      ]
     },
     "metadata": {
      "needs_background": "light"
     },
     "output_type": "display_data"
    }
   ],
   "source": [
    "k=49\n",
    "#---instantiate learning model---#\n",
    "knn=KNeighborsClassifier(n_neighbors=k)\n",
    "\n",
    "#---fitting the model---#\n",
    "knn.fit(X,y)\n",
    "\n",
    "#---min and max for the first feature---#\n",
    "x_min, x_max=X[:,0].min()-1,X[:,0].max() + 1\n",
    "\n",
    "#---min and max for the second feature---#\n",
    "y_min, y_max=X[:,1].min()-1, X[:,1].max() + 1\n",
    "\n",
    "#---step size in mesh---#\n",
    "h=(x_max/x_min)/100\n",
    "\n",
    "#---make predictions for each of the points in xx,yy---#\n",
    "xx,yy=np.meshgrid(np.arange(x_min,x_max,h),\n",
    "                  np.arange(y_min,y_max,h))\n",
    "\n",
    "Z=knn.predict(np.c_[xx.ravel(),yy.ravel()])\n",
    "\n",
    "#---draw teh result using a color plot---#\n",
    "Z=Z.reshape(xx.shape)\n",
    "plt.contourf(xx,yy,Z,cmap=plt.cm.Accent,alpha=0.8)\n",
    "\n",
    "#---plot the training points---#\n",
    "colors=['red','green','blue']\n",
    "for color,i,target in zip(colors,[0,1,2],iris.target_names):\n",
    "    plt.scatter(X[y==i,0],X[y==i,1],color=color,label=target)\n",
    "\n",
    "plt.xlabel('Sepal length')\n",
    "plt.ylabel('Sepal width')\n",
    "plt.title(f'KNN (k={k})')\n",
    "plt.legend(loc='best',shadow=False,scatterpoints=1)\n",
    "\n",
    "predictions=knn.predict(X)\n",
    "\n",
    "#---classifications based on predictions---#\n",
    "print(np.unique(predictions,return_counts=True))\n"
   ]
  },
  {
   "cell_type": "code",
   "execution_count": 15,
   "metadata": {},
   "outputs": [
    {
     "name": "stdout",
     "output_type": "stream",
     "text": [
      "(array([0, 1, 2]), array([57, 58, 35]))\n"
     ]
    },
    {
     "data": {
      "image/png": "[encoded data removed]",
      "text/plain": [
       "<Figure size 432x288 with 1 Axes>"
      ]
     },
     "metadata": {
      "needs_background": "light"
     },
     "output_type": "display_data"
    }
   ],
   "source": [
    "k=99\n",
    "#---instantiate learning model---#\n",
    "knn=KNeighborsClassifier(n_neighbors=k)\n",
    "\n",
    "#---fitting the model---#\n",
    "knn.fit(X,y)\n",
    "\n",
    "#---min and max for the first feature---#\n",
    "x_min, x_max=X[:,0].min()-1,X[:,0].max() + 1\n",
    "\n",
    "#---min and max for the second feature---#\n",
    "y_min, y_max=X[:,1].min()-1, X[:,1].max() + 1\n",
    "\n",
    "#---step size in mesh---#\n",
    "h=(x_max/x_min)/100\n",
    "\n",
    "#---make predictions for each of the points in xx,yy---#\n",
    "xx,yy=np.meshgrid(np.arange(x_min,x_max,h),\n",
    "                  np.arange(y_min,y_max,h))\n",
    "\n",
    "Z=knn.predict(np.c_[xx.ravel(),yy.ravel()])\n",
    "\n",
    "#---draw teh result using a color plot---#\n",
    "Z=Z.reshape(xx.shape)\n",
    "plt.contourf(xx,yy,Z,cmap=plt.cm.Accent,alpha=0.8)\n",
    "\n",
    "#---plot the training points---#\n",
    "colors=['red','green','blue']\n",
    "for color,i,target in zip(colors,[0,1,2],iris.target_names):\n",
    "    plt.scatter(X[y==i,0],X[y==i,1],color=color,label=target)\n",
    "\n",
    "plt.xlabel('Sepal length')\n",
    "plt.ylabel('Sepal width')\n",
    "plt.title(f'KNN (k={k})')\n",
    "plt.legend(loc='best',shadow=False,scatterpoints=1)\n",
    "\n",
    "predictions=knn.predict(X)\n",
    "\n",
    "#---classifications based on predictions---#\n",
    "print(np.unique(predictions,return_counts=True))\n"
   ]
  },
  {
   "cell_type": "code",
   "execution_count": 16,
   "metadata": {},
   "outputs": [
    {
     "name": "stdout",
     "output_type": "stream",
     "text": [
      "(array([0, 1, 2]), array([51, 46, 53]))\n"
     ]
    },
    {
     "data": {
      "image/png": "[encoded data removed]",
      "text/plain": [
       "<Figure size 432x288 with 1 Axes>"
      ]
     },
     "metadata": {
      "needs_background": "light"
     },
     "output_type": "display_data"
    }
   ],
   "source": [
    "k=13\n",
    "#---instantiate learning model---#\n",
    "knn=KNeighborsClassifier(n_neighbors=k)\n",
    "\n",
    "#---fitting the model---#\n",
    "knn.fit(X,y)\n",
    "\n",
    "#---min and max for the first feature---#\n",
    "x_min, x_max=X[:,0].min()-1,X[:,0].max() + 1\n",
    "\n",
    "#---min and max for the second feature---#\n",
    "y_min, y_max=X[:,1].min()-1, X[:,1].max() + 1\n",
    "\n",
    "#---step size in mesh---#\n",
    "h=(x_max/x_min)/100\n",
    "\n",
    "#---make predictions for each of the points in xx,yy---#\n",
    "xx,yy=np.meshgrid(np.arange(x_min,x_max,h),\n",
    "                  np.arange(y_min,y_max,h))\n",
    "\n",
    "Z=knn.predict(np.c_[xx.ravel(),yy.ravel()])\n",
    "\n",
    "#---draw teh result using a color plot---#\n",
    "Z=Z.reshape(xx.shape)\n",
    "plt.contourf(xx,yy,Z,cmap=plt.cm.Accent,alpha=0.8)\n",
    "\n",
    "#---plot the training points---#\n",
    "colors=['red','green','blue']\n",
    "for color,i,target in zip(colors,[0,1,2],iris.target_names):\n",
    "    plt.scatter(X[y==i,0],X[y==i,1],color=color,label=target)\n",
    "\n",
    "plt.xlabel('Sepal length')\n",
    "plt.ylabel('Sepal width')\n",
    "plt.title(f'KNN (k={k})')\n",
    "plt.legend(loc='best',shadow=False,scatterpoints=1)\n",
    "\n",
    "predictions=knn.predict(X)\n",
    "\n",
    "#---classifications based on predictions---#\n",
    "print(np.unique(predictions,return_counts=True))\n"
   ]
  },
  {
   "cell_type": "markdown",
   "metadata": {},
   "source": [
    "Note that as k increases, the boundary becomes smoother. But it also means that the more points will be classified incorrectly. When k increases to a large value, underfitting occurs. \n",
    "\n",
    "### Cross-Validation\n",
    "We have witnessed from previous chapters, that we split our dataset into two individual sets--one for training ando ne for testing. However, the data in your dataset may not be distributed evenly, and as a result your test set may be too simple or too hard to predict, thereby making it very difficult to know if your model works well.\n",
    "\n",
    "Instead of using part of the data for training and part for testing, you can split the data into k-folds and train the model k times, rotating the training and testing sets, By doing so, each data point is now being used for training and testing.\n",
    "\n",
    "#### Parameter-Tuning K\n",
    "Now that you understand cross-validation, lets use it on our Iris dataset. We will train the model using all of the four features, and as the same time we shall use cross-validation on the dataset using 10 folds. We will do this for each value of k:"
   ]
  },
  {
   "cell_type": "code",
   "execution_count": 17,
   "metadata": {},
   "outputs": [
    {
     "name": "stdout",
     "output_type": "stream",
     "text": [
      "1 0.96\n",
      "2 0.9533333333333334\n",
      "4 0.9666666666666666\n",
      "5 0.9666666666666668\n",
      "7 0.9666666666666668\n",
      "8 0.9666666666666668\n",
      "10 0.9666666666666668\n",
      "11 0.9666666666666668\n",
      "13 0.9800000000000001\n",
      "14 0.9733333333333334\n",
      "16 0.9733333333333334\n",
      "17 0.9733333333333334\n",
      "19 0.9733333333333334\n",
      "20 0.9800000000000001\n",
      "22 0.9666666666666666\n",
      "23 0.9733333333333334\n",
      "25 0.9666666666666666\n",
      "26 0.96\n",
      "28 0.9533333333333334\n",
      "29 0.9533333333333334\n",
      "31 0.9466666666666667\n",
      "32 0.9466666666666667\n",
      "34 0.9466666666666667\n",
      "35 0.9466666666666667\n",
      "37 0.9466666666666667\n",
      "38 0.9466666666666667\n",
      "40 0.9533333333333334\n",
      "41 0.9533333333333334\n",
      "43 0.9466666666666667\n",
      "44 0.9400000000000001\n",
      "46 0.9333333333333333\n",
      "47 0.9333333333333333\n",
      "49 0.9400000000000001\n",
      "50 0.9266666666666667\n",
      "52 0.9333333333333333\n",
      "53 0.9333333333333333\n",
      "55 0.9333333333333333\n",
      "56 0.9066666666666666\n",
      "58 0.9133333333333334\n",
      "59 0.9200000000000002\n",
      "61 0.9199999999999999\n",
      "62 0.9066666666666666\n",
      "64 0.9\n",
      "65 0.9\n",
      "67 0.8866666666666667\n",
      "68 0.8800000000000001\n",
      "70 0.8866666666666667\n",
      "71 0.8866666666666667\n",
      "73 0.8933333333333333\n",
      "74 0.8866666666666667\n",
      "76 0.8800000000000001\n",
      "77 0.8866666666666667\n",
      "79 0.8866666666666667\n",
      "80 0.8933333333333333\n",
      "82 0.9000000000000001\n",
      "83 0.8800000000000001\n",
      "85 0.8733333333333334\n",
      "86 0.8800000000000001\n",
      "88 0.8733333333333334\n",
      "89 0.8800000000000001\n",
      "91 0.6599999999999999\n",
      "92 0.6599999999999999\n",
      "94 0.6599999999999999\n",
      "95 0.6599999999999999\n",
      "97 0.6599999999999999\n",
      "98 0.6599999999999999\n",
      "100 0.6599999999999999\n",
      "101 0.6599999999999999\n",
      "103 0.6599999999999999\n",
      "104 0.6599999999999999\n",
      "106 0.6599999999999999\n",
      "107 0.6599999999999999\n",
      "109 0.6599999999999999\n",
      "110 0.6533333333333332\n",
      "112 0.6466666666666665\n",
      "113 0.6466666666666665\n",
      "115 0.6466666666666665\n",
      "116 0.6466666666666665\n",
      "118 0.6399999999999999\n",
      "119 0.6399999999999999\n",
      "121 0.6399999999999999\n",
      "122 0.6399999999999999\n",
      "124 0.6399999999999999\n",
      "125 0.6333333333333332\n",
      "127 0.6266666666666666\n",
      "128 0.6199999999999999\n",
      "130 0.6066666666666667\n",
      "131 0.5933333333333332\n",
      "133 0.5666666666666667\n",
      "134 0.5533333333333333\n"
     ]
    }
   ],
   "source": [
    "from sklearn.model_selection import cross_val_score\n",
    "\n",
    "#---holds the cv (cross-validates) scores---#\n",
    "cv_scores=[]\n",
    "\n",
    "#---use all features---#\n",
    "X=iris.data[:,:4]\n",
    "y=iris.target\n",
    "\n",
    "#---number of folds---#\n",
    "folds=10\n",
    "\n",
    "#---creating odd list of K for KNN---#\n",
    "ks=list(range(1,int(len(X)*((folds-1)/folds))))\n",
    "\n",
    "#---remove all multiples of 3---#\n",
    "ks=[k for k in ks if k % 3 !=0]\n",
    "\n",
    "#---perform k-fold cross-validation---#\n",
    "for k in ks:\n",
    "    knn=KNeighborsClassifier(n_neighbors=k)\n",
    "    \n",
    "    #---performs cross-validation and returns the average accuracy---#\n",
    "    scores= cross_val_score(knn,X,y,cv=folds,scoring='accuracy')\n",
    "    mean=scores.mean()\n",
    "    cv_scores.append(mean)\n",
    "    print(k,mean)\n",
    "    "
   ]
  },
  {
   "cell_type": "markdown",
   "metadata": {},
   "source": [
    "The Scikit-learn library provides the cross_val_score() function that performs cross-validation for you automatically, and it reutnrs the metrics that you want (for example, accuracy). When using cross-validation, be aware that at any one time, there will be $((folds-1/folds)*total_rows$ available for training. This is because $(1/folds)*total_rows$ will be used for testing. \n",
    "\n",
    "For KNN, there are 3 rules yo which you must adhere:\n",
    "\n",
    "The value of k cannot exceed the numbero f rows for training\n",
    "\n",
    "The value of k should be an odd number (so you can avoid situations where there is a tie between classes) for a two class problem.\n",
    "\n",
    "The value of k must not be a multiple of the number of classes (to avoid ties, similar to the previous point)\n"
   ]
  },
  {
   "cell_type": "markdown",
   "metadata": {},
   "source": [
    "Hence, the ks list in the preceding code will contain the following values"
   ]
  },
  {
   "cell_type": "code",
   "execution_count": 18,
   "metadata": {},
   "outputs": [
    {
     "name": "stdout",
     "output_type": "stream",
     "text": [
      "[1, 2, 4, 5, 7, 8, 10, 11, 13, 14, 16, 17, 19, 20, 22, 23, 25, 26, 28, 29, 31, 32, 34, 35, 37, 38, 40, 41, 43, 44, 46, 47, 49, 50, 52, 53, 55, 56, 58, 59, 61, 62, 64, 65, 67, 68, 70, 71, 73, 74, 76, 77, 79, 80, 82, 83, 85, 86, 88, 89, 91, 92, 94, 95, 97, 98, 100, 101, 103, 104, 106, 107, 109, 110, 112, 113, 115, 116, 118, 119, 121, 122, 124, 125, 127, 128, 130, 131, 133, 134]\n"
     ]
    }
   ],
   "source": [
    "print(ks)"
   ]
  },
  {
   "cell_type": "markdown",
   "metadata": {},
   "source": [
    "After training, the cv_scores will contain a list of accuracies based on the different values of k"
   ]
  },
  {
   "cell_type": "markdown",
   "metadata": {},
   "source": [
    "### Finding the Optimal K\n",
    "To find the optimal k, you simple find the value of k that gives the highest accuracy. Or in this case, you willw ant to find the lowest misclassification error (MSE).\n",
    "\n",
    "The following code snippet finds the MSE for each k, and then finds the k with the lowest MSE. It then plots a line chart of MSE against k."
   ]
  },
  {
   "cell_type": "code",
   "execution_count": 19,
   "metadata": {},
   "outputs": [
    {
     "name": "stdout",
     "output_type": "stream",
     "text": [
      "The optimal number of neighbors is 13\n"
     ]
    },
    {
     "data": {
      "image/png": "[encoded data removed]",
      "text/plain": [
       "<Figure size 432x288 with 1 Axes>"
      ]
     },
     "metadata": {
      "needs_background": "light"
     },
     "output_type": "display_data"
    }
   ],
   "source": [
    "#---calculate misclassification error for each k---#\n",
    "MSE=[1-x for x in cv_scores]\n",
    "\n",
    "#---dtermining best k (min.MSE)---#\n",
    "optimal_k=ks[MSE.index(min(MSE))]\n",
    "print(f\"The optimal number of neighbors is {optimal_k}\")\n",
    "\n",
    "#---plot misclassification error vs k---#\n",
    "plt.plot(ks,MSE)\n",
    "plt.xlabel('Number of Neighbors K')\n",
    "plt.ylabel('Misclassification Error')\n",
    "plt.show()"
   ]
  }
 ],
 "metadata": {
  "kernelspec": {
   "display_name": "Python 3",
   "language": "python",
   "name": "python3"
  },
  "language_info": {
   "codemirror_mode": {
    "name": "ipython",
    "version": 3
   },
   "file_extension": ".py",
   "mimetype": "text/x-python",
   "name": "python",
   "nbconvert_exporter": "python",
   "pygments_lexer": "ipython3",
   "version": "3.8.3"
  }
 },
 "nbformat": 4,
 "nbformat_minor": 4
}
